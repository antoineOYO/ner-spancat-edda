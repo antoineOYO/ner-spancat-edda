{
 "cells": [
  {
   "cell_type": "code",
   "execution_count": 25,
   "metadata": {},
   "outputs": [],
   "source": [
    "import spacy\n",
    "from spacy.tokens import DocBin, Doc\n",
    "\n",
    "nlp = spacy.load(\"models/fr_spacy_custom_spancat_edda\")\n",
    "Doc.set_extension(\"metadata\", default={}, force=True)\n",
    "\n",
    "with open(\"edda_serialized_docs_240131.bin\", \"rb\") as f:\n",
    "    serialized_bytes = f.read()\n",
    "\n",
    "doc_bin = DocBin().from_bytes(serialized_bytes)\n",
    "docs = list(doc_bin.get_docs(nlp.vocab))\n",
    "jsonl = []\n",
    "for doc in docs: \n",
    "    jsonl.append(dict(doc._.metadata, **doc.to_json()))"
   ]
  },
  {
   "cell_type": "code",
   "execution_count": 8,
   "metadata": {},
   "outputs": [
    {
     "data": {
      "text/plain": [
       "spacy.tokens.doc.Doc"
      ]
     },
     "execution_count": 8,
     "metadata": {},
     "output_type": "execute_result"
    }
   ],
   "source": [
    "type(doc)"
   ]
  },
  {
   "cell_type": "markdown",
   "metadata": {},
   "source": [
    "### Book & Encycl. Classes"
   ]
  },
  {
   "cell_type": "code",
   "execution_count": 11,
   "metadata": {},
   "outputs": [],
   "source": [
    "import math\n",
    "from collections import defaultdict\n",
    "\n",
    "class Encyclopedy:\n",
    "    def __init__(self):\n",
    "        self.books = []\n",
    "        #self.word_count = defaultdict(int)\n",
    "        #self.total_word_count = 0\n",
    "\n",
    "    def _add_book(self, book):\n",
    "        if hasattr(book, 'word_count') : # and len(book.word_count) > 1 and sum(book.word_count.values()) == book.total_word_count:\n",
    "            #initialize \n",
    "            if not hasattr(self, 'word_count') and not self.books:\n",
    "                self.word_count = book.word_count\n",
    "                self.total_word_count = book.total_word_count\n",
    "                self.books.append(book)\n",
    "                return None\n",
    "            else :\n",
    "                self.books.append(book)\n",
    "                for word, count in book.word_count.items():\n",
    "                    self.word_count[word] += count\n",
    "                self.total_word_count += book.total_word_count\n",
    "        else:\n",
    "            book._update_counts()\n",
    "            self._add_book(book)\n",
    "\n",
    "    def _update_counts(self):\n",
    "        self.word_count = defaultdict(int)\n",
    "        self.total_word_count = 0\n",
    "        for book in self.books:\n",
    "            if not hasattr(book, 'word_count') :\n",
    "                book._update_counts()\n",
    "            for word, count in book.word_count.items():\n",
    "                self.word_count[word] += count\n",
    "            self.total_word_count += book.total_word_count\n",
    "\n",
    "    def tf(self, word):\n",
    "        if not isinstance(word, str):\n",
    "            return 0\n",
    "        if word not in self.word_count:\n",
    "            return 0\n",
    "        return self.word_count.get(word, 0) / self.total_word_count\n",
    "\n",
    "    def idf(self, word):\n",
    "        \"\"\"\n",
    "        idf(word) = log(N / (1 + n))\n",
    "        with :\n",
    "         N - number of books\n",
    "         n - number of books containing the word\n",
    "        \"\"\"\n",
    "        \n",
    "        if not isinstance(word, str):\n",
    "            return 0\n",
    "        if word not in self.word_count:\n",
    "            return 0\n",
    "        return math.log(len(self.books) / (1 + len([book for book in self.books if word in book.word_count])))\n",
    "\n",
    "    def tfidf(self, word):\n",
    "        if word not in self.word_count:\n",
    "            return 0\n",
    "        return self.tf(word) * self.idf(word)\n",
    "\n",
    "class Book:\n",
    "    def __init__(self):\n",
    "        self.articles = []\n",
    "\n",
    "    def __repr__(self):\n",
    "        return f\"Book with {len(self.articles)} articles\"\n",
    "    \n",
    "    def __iter__(self):\n",
    "        return iter(self.articles)\n",
    "\n",
    "    def _reach_article(self, volume = None, article  = None, headword=None):\n",
    "        for art in self.articles:\n",
    "            if headword:\n",
    "                if art.headword.lower() == headword.lower():\n",
    "                    return art\n",
    "            elif art.volume == volume and art.article == article:\n",
    "                return art\n",
    "        return None\n",
    " \n",
    "    def _add_paragraph(self, paragraph):\n",
    "        if not isinstance(paragraph, spacy.tokens.doc.Doc) :\n",
    "            raise ValueError(\"paragraph must be a spacy Doc object\")\n",
    "        \n",
    "        related_article = self._reach_article(volume=paragraph._.metadata['volume'],\n",
    "                                              article=paragraph._.metadata['article'])\n",
    "        \n",
    "        if related_article and related_article.headword == paragraph._.metadata['headword']:\n",
    "            related_article._add_paragraph(paragraph)\n",
    "\n",
    "        else :\n",
    "            spacy_dict = dict(paragraph._.metadata, **paragraph.to_json())\n",
    "            new_article = Article(volume = spacy_dict['volume'],\n",
    "                                  article = spacy_dict['article'],\n",
    "                                  headword = spacy_dict['headword'],\n",
    "                                  paragraphs_list = [paragraph],\n",
    "                                  authors = spacy_dict['authors'],\n",
    "                                  text = spacy_dict['text'],\n",
    "                                  tokens = spacy_dict['tokens'],\n",
    "                                  spans = spacy_dict['spans'])\n",
    "            self._add_article(new_article)\n",
    "\n",
    "\n",
    "    def _add_article(self, article):\n",
    "        if not isinstance(article, Article):\n",
    "            raise ValueError(\"article must be an Article object\")\n",
    "        if self._reach_article(volume = article.volume, article = article.article):\n",
    "            raise ValueError(\"article with same *volume & article*  already in the book\")\n",
    "        \n",
    "        self.articles.append(article)\n",
    "\n",
    "        # # does the article  already have word_count ?\n",
    "        # if hasattr(article, 'word_count') :\n",
    "\n",
    "        #     #is it the first article ? \n",
    "        #     if not hasattr(self, 'word_count') and not self.articles:\n",
    "        #         self.word_count = article.word_count\n",
    "        #         self.total_word_count = article.total_word_count\n",
    "        #         self.articles.append(article)\n",
    "        #         return None\n",
    "            \n",
    "        #     else :\n",
    "        #         self.articles.append(article)\n",
    "        #         for word, count in article.word_count.items():\n",
    "        #             self.word_count[word] += count                \n",
    "        #         self.total_word_count += article.total_word_count\n",
    "        # else:\n",
    "        #     #article._update_counts()\n",
    "        #     self.articles.append(article)\n",
    "\n",
    "    def _update_counts(self, tag_type = None, smooth = False, ):\n",
    "        \"\"\"\n",
    "        Counts phrases/words in the book that have the  given tag_type tags.\n",
    "        :param tag_type: tag_type to count\n",
    "        :type tag_type: list of str\n",
    "        :param smooth: keeps only phrases starting with a capital letter\n",
    "        :type smooth: bool\n",
    "        \"\"\"\n",
    "        self.word_count = defaultdict(int)\n",
    "        self.total_word_count = 0\n",
    "        for article in self.articles:\n",
    "            article._update_counts(tag_type = tag_type, smooth = smooth)\n",
    "            for word, count in article.word_count.items():\n",
    "                self.word_count[word] += count\n",
    "            self.total_word_count += article.total_word_count\n",
    "\n",
    "        self.word_count = dict(sorted(self.word_count.items(),\n",
    "                                      key=lambda item: item[1],\n",
    "                                      reverse=True)\n",
    "                                )\n",
    "\n",
    "    def tf(self, word):\n",
    "        if not isinstance(word, str) or word not in self.word_count:\n",
    "            return 0\n",
    "        return self.word_count.get(word, 0) / self.total_word_count\n",
    "    \n",
    "    def idf(self, word):\n",
    "        \"\"\"\n",
    "        idf(word) = log(N / (1 + n))\n",
    "        with :\n",
    "         N - number of articles in the book\n",
    "         n - number of articles containing the word\n",
    "        \"\"\"\n",
    "        if not isinstance(word, str):\n",
    "            return 0\n",
    "        if word not in self.word_count:\n",
    "            return 0\n",
    "        return math.log(len(self.articles) / (1 + len([article for article in self.articles if word in article.word_count])))\n",
    "    \n",
    "    def tfidf(self, word):\n",
    "        if word not in self.word_count:\n",
    "            return 0\n",
    "        return self.tf(word) * self.idf(word)"
   ]
  },
  {
   "cell_type": "markdown",
   "metadata": {},
   "source": [
    "### Article class"
   ]
  },
  {
   "cell_type": "code",
   "execution_count": 98,
   "metadata": {},
   "outputs": [],
   "source": [
    "import spacy\n",
    "from spacy.tokens import DocBin, Doc\n",
    "\n",
    "class Article:\n",
    "    def __init__(self,\n",
    "                 #work = None,\n",
    "                 volume = None,\n",
    "                 article = None,\n",
    "                 headword = None,\n",
    "                 paragraphs_list = None,\n",
    "                 authors = None,\n",
    "                 #domains = None,\n",
    "                 text = None,\n",
    "                 tokens = None,\n",
    "                 spans = None):\n",
    "        \"\"\"\n",
    "        paragraphs_list : having the spacydoc architecture :\n",
    "                work\n",
    "                volume\n",
    "                article\n",
    "                paragraph\n",
    "                headword\n",
    "                authors\n",
    "                domains\n",
    "                text\n",
    "                tokens\n",
    "                '-- id\n",
    "                '-- start\n",
    "                '-- end\n",
    "                spans\n",
    "                '-- sc\n",
    "                '--  '-- start\n",
    "                '--  '-- end\n",
    "                '--  '-- label\n",
    "                '--  '-- kb_id\n",
    "        \"\"\"\n",
    "        #self.work = work\n",
    "        self.volume = volume\n",
    "        self.article = article\n",
    "        self.headword = headword\n",
    "        self.paragraphs_list = paragraphs_list\n",
    "        self.authors = authors\n",
    "        #self.domains = domains\n",
    "        self.text = text\n",
    "        self.tokens = tokens\n",
    "        self.spans = spans\n",
    "\n",
    "    def __repr__(self):\n",
    "        return self.headword\n",
    "\n",
    "    def _add_paragraph(self, paragraph):\n",
    "        if not isinstance(paragraph, spacy.tokens.doc.Doc) :\n",
    "            raise ValueError(\"paragraph must be a spacy Doc object\")\n",
    "        if (self.volume != paragraph._.metadata['volume']) or (self.article != paragraph._.metadata['article']) or (self.headword != paragraph._.metadata['headword']):\n",
    "            # print(self.volume, paragraph._.metadata['volume'])\n",
    "            # print(self.article, paragraph._.metadata['article'])\n",
    "            # print(self.headword, paragraph._.metadata['headword'])\n",
    "            raise ValueError(\"paragraph does not match the article\")\n",
    "        \n",
    "        self.paragraphs_list.append(paragraph)\n",
    "\n",
    "        spacy_dict = dict(paragraph._.metadata, **paragraph.to_json())\n",
    "        #concatenate texts :\n",
    "        self.text += ' ' + paragraph.text\n",
    "        #add and shift tokens :\n",
    "        for token in spacy_dict['tokens']:\n",
    "            token['id'] += len(self.tokens)\n",
    "            token['start'] += len(self.text)\n",
    "            token['end'] += len(self.text)\n",
    "            self.tokens.append(token)\n",
    "        #add and shift spans :\n",
    "        for span in spacy_dict['spans']['sc']:\n",
    "            span['start'] += len(self.text)\n",
    "            span['end'] += len(self.text)\n",
    "            self.spans['sc'].append(span)\n",
    "            \n",
    "    def _update_counts(self, tag_type=None, smooth=False):\n",
    "        \"\"\"\n",
    "        Counts words in the Article\n",
    "        :param tag_type: types of tags to count (list like: list of tags like ['NC-Spatial', 'NP-Spatial', 'ENE-Spatial', 'Domain-mark'])\n",
    "        :param smooth: keeps only phrases starting with a capital letter\n",
    "        \"\"\"\n",
    "        if not self.tokens:\n",
    "            print(\"No text to count\")\n",
    "            return\n",
    "\n",
    "        self.word_count = defaultdict(int)\n",
    "        self.total_word_count = 0\n",
    "\n",
    "        for span in self.spans.get('sc', []):\n",
    "            if not tag_type or span.get('label') in tag_type:\n",
    "                phrase = self.text[span.get('start', 0):span.get('end', 0)]\n",
    "                if smooth:\n",
    "                    while phrase and not phrase[0].isupper():\n",
    "                        phrase = phrase[1:] if len(phrase) > 1 else ''\n",
    "                self.word_count[phrase] += 1\n",
    "                self.total_word_count += 1\n",
    "\n",
    "        #sort word_count\n",
    "        self.word_count = dict(sorted(self.word_count.items(), key=lambda item: item[1], reverse=True))\n",
    "\n",
    "    def _get_first(self, type):\n",
    "        for span in self.spans.get('sc', []):\n",
    "            if span.get('label') == type:\n",
    "                return self.text[span.get('start', 0):span.get('end', 0)]\n",
    "        return None    \n",
    "                \n",
    "    def _nice_print(self, paragraph = 0):\n",
    "        options = {'colors': {'NP-Spatial': '#27AE60', \n",
    "                              'NC-Spatial': '#85C1E9',\n",
    "                              'ENE-Spatial': '#196F3D', \n",
    "                              'Relation': '#F5B041'}}\n",
    "        spacy.displacy.render(self.paragraphs_list[paragraph],\n",
    "                              style='span', options=options, jupyter=True)"
   ]
  },
  {
   "cell_type": "markdown",
   "metadata": {},
   "source": [
    "### Geographical articles keys"
   ]
  },
  {
   "cell_type": "code",
   "execution_count": 3,
   "metadata": {},
   "outputs": [],
   "source": [
    "import pandas as pd\n",
    "df = pd.read_excel('/home/antoine/Documents/GitHub/toponym-disambiguation/data/matheus.xlsx')"
   ]
  },
  {
   "cell_type": "code",
   "execution_count": 4,
   "metadata": {},
   "outputs": [
    {
     "name": "stdout",
     "output_type": "stream",
     "text": [
      "15545\n"
     ]
    }
   ],
   "source": [
    "geo_keys = []\n",
    "for _,row in df.iterrows():\n",
    "    geo_keys.append((row['volume'],row['numero']))\n",
    "print(len(geo_keys))"
   ]
  },
  {
   "cell_type": "markdown",
   "metadata": {},
   "source": [
    "### Tests"
   ]
  },
  {
   "cell_type": "code",
   "execution_count": null,
   "metadata": {},
   "outputs": [],
   "source": [
    "encyclopedia = Encyclopedy()\n",
    "book1 = Book()\n",
    "article1 = Article(\"Article Head 1\", \"Author 1\", \"Text of article 1. article example\")\n",
    "article2 = Article(\"Article Head 2\", \"Author 2\", \"Text of article 2\")\n",
    "book1._add_article(article1)\n",
    "book1._add_article(article2)\n",
    "encyclopedia._add_book(book1)\n",
    "print(encyclopedia.word_count)\n",
    "print(book1.word_count)\n",
    "print(article1.word_count)\n",
    "print(book1.tf('article'))\n",
    "print(encyclopedia.tfidf('article'))\n",
    "print(book1.idf('article'))"
   ]
  },
  {
   "cell_type": "markdown",
   "metadata": {},
   "source": [
    "### Constructing my book"
   ]
  },
  {
   "cell_type": "code",
   "execution_count": 28,
   "metadata": {},
   "outputs": [
    {
     "name": "stdout",
     "output_type": "stream",
     "text": [
      "15510\n"
     ]
    }
   ],
   "source": [
    "book = Book()\n",
    "for paragraph in docs:\n",
    "    if (paragraph._.metadata['volume'], paragraph._.metadata['article']) in geo_keys:\n",
    "        book._add_paragraph(paragraph)\n",
    "\n",
    "print(len(book.articles))\n",
    "import pickle\n",
    "with open('geobook4.pkl', 'wb') as f:\n",
    "    pickle.dump(book, f)"
   ]
  },
  {
   "cell_type": "code",
   "execution_count": 29,
   "metadata": {},
   "outputs": [
    {
     "name": "stdout",
     "output_type": "stream",
     "text": [
      "15510\n"
     ]
    }
   ],
   "source": [
    "# read pickled geobook3\n",
    "import pickle\n",
    "with open('geobook4.pkl', mode='rb') as file :\n",
    "    book = pickle.load(file)\n",
    "print(len(book.articles))"
   ]
  },
  {
   "cell_type": "code",
   "execution_count": 32,
   "metadata": {},
   "outputs": [
    {
     "name": "stdout",
     "output_type": "stream",
     "text": [
      "1898\n",
      "1809\n"
     ]
    }
   ],
   "source": [
    "word = 'France'\n",
    "\n",
    "book._update_counts(tag_type = ['NP-Spatial'], smooth=True)\n",
    "print(book.word_count[word])\n",
    "book._update_counts(tag_type = ['NP-Spatial'], smooth=False)\n",
    "print(book.word_count[word])"
   ]
  },
  {
   "cell_type": "code",
   "execution_count": 9,
   "metadata": {},
   "outputs": [],
   "source": [
    "etoile = book._reach_article(headword='ALLEMAGNE')"
   ]
  },
  {
   "cell_type": "code",
   "execution_count": 20,
   "metadata": {},
   "outputs": [
    {
     "data": {
      "text/plain": [
       "{'sc': [{'start': 2, 'end': 11, 'label': 'Head', 'kb_id': ''},\n",
       "  {'start': 74, 'end': 80, 'label': 'NP-Spatial', 'kb_id': ''},\n",
       "  {'start': 146, 'end': 154, 'label': 'NP-Spatial', 'kb_id': ''},\n",
       "  {'start': 309, 'end': 317, 'label': 'NP-Spatial', 'kb_id': ''},\n",
       "  {'start': 318, 'end': 321, 'label': 'Relation', 'kb_id': ''},\n",
       "  {'start': 322, 'end': 327, 'label': 'NP-Spatial', 'kb_id': ''},\n",
       "  {'start': 339, 'end': 343, 'label': 'NP-Spatial', 'kb_id': ''},\n",
       "  {'start': 14, 'end': 19, 'label': 'Domain-mark', 'kb_id': ''},\n",
       "  {'start': 21, 'end': 31, 'label': 'NC-Spatial', 'kb_id': ''},\n",
       "  {'start': 51, 'end': 59, 'label': 'NP-Spatial', 'kb_id': ''},\n",
       "  {'start': 101, 'end': 111, 'label': 'NP-Spatial', 'kb_id': ''},\n",
       "  {'start': 114, 'end': 124, 'label': 'NP-Spatial', 'kb_id': ''},\n",
       "  {'start': 139, 'end': 145, 'label': 'NC-Spatial', 'kb_id': ''},\n",
       "  {'start': 157, 'end': 168, 'label': 'NP-Spatial', 'kb_id': ''},\n",
       "  {'start': 202, 'end': 211, 'label': 'NP-Spatial', 'kb_id': ''},\n",
       "  {'start': 214, 'end': 223, 'label': 'NP-Spatial', 'kb_id': ''},\n",
       "  {'start': 238, 'end': 247, 'label': 'NP-Spatial', 'kb_id': ''},\n",
       "  {'start': 251, 'end': 259, 'label': 'NP-Spatial', 'kb_id': ''},\n",
       "  {'start': 263, 'end': 272, 'label': 'NP-Spatial', 'kb_id': ''},\n",
       "  {'start': 302, 'end': 308, 'label': 'NC-Spatial', 'kb_id': ''},\n",
       "  {'start': 346, 'end': 356, 'label': 'NP-Spatial', 'kb_id': ''},\n",
       "  {'start': 398, 'end': 408, 'label': 'NP-Spatial', 'kb_id': ''},\n",
       "  {'start': 437, 'end': 447, 'label': 'NP-Spatial', 'kb_id': ''},\n",
       "  {'start': 479, 'end': 491, 'label': 'NP-Spatial', 'kb_id': ''},\n",
       "  {'start': 493, 'end': 502, 'label': 'NP-Spatial', 'kb_id': ''},\n",
       "  {'start': 506, 'end': 519, 'label': 'NP-Spatial', 'kb_id': ''},\n",
       "  {'start': 139, 'end': 154, 'label': 'ENE-Spatial', 'kb_id': ''},\n",
       "  {'start': 302, 'end': 317, 'label': 'ENE-Spatial', 'kb_id': ''},\n",
       "  {'start': 410, 'end': 421, 'label': 'NP-Spatial', 'kb_id': ''},\n",
       "  {'start': 423, 'end': 435, 'label': 'NP-Spatial', 'kb_id': ''},\n",
       "  {'start': 449, 'end': 462, 'label': 'NP-Spatial', 'kb_id': ''},\n",
       "  {'start': 464, 'end': 477, 'label': 'NP-Spatial', 'kb_id': ''},\n",
       "  {'start': 188, 'end': 200, 'label': 'NP-Spatial', 'kb_id': ''},\n",
       "  {'start': 188, 'end': 200, 'label': 'NP-Person', 'kb_id': ''},\n",
       "  {'start': 2945, 'end': 2955, 'label': 'NP-Spatial', 'kb_id': ''},\n",
       "  {'start': 2965, 'end': 2975, 'label': 'NP-Spatial', 'kb_id': ''},\n",
       "  {'start': 3086, 'end': 3087, 'label': 'Relation', 'kb_id': ''},\n",
       "  {'start': 3100, 'end': 3101, 'label': 'Relation', 'kb_id': ''},\n",
       "  {'start': 3131, 'end': 3135, 'label': 'NC-Spatial', 'kb_id': ''},\n",
       "  {'start': 3212, 'end': 3216, 'label': 'NP-Misc', 'kb_id': ''},\n",
       "  {'start': 3290, 'end': 3299, 'label': 'NP-Person', 'kb_id': ''},\n",
       "  {'start': 3300, 'end': 3304, 'label': 'Relation', 'kb_id': ''},\n",
       "  {'start': 3335, 'end': 3340, 'label': 'NP-Person', 'kb_id': ''},\n",
       "  {'start': 3415, 'end': 3422, 'label': 'NP-Spatial', 'kb_id': ''},\n",
       "  {'start': 3426, 'end': 3434, 'label': 'NP-Spatial', 'kb_id': ''},\n",
       "  {'start': 3436, 'end': 3438, 'label': 'Relation', 'kb_id': ''},\n",
       "  {'start': 3439, 'end': 3445, 'label': 'NP-Spatial', 'kb_id': ''},\n",
       "  {'start': 3498, 'end': 3501, 'label': 'Relation', 'kb_id': ''},\n",
       "  {'start': 3541, 'end': 3548, 'label': 'NP-Spatial', 'kb_id': ''},\n",
       "  {'start': 3586, 'end': 3593, 'label': 'NP-Spatial', 'kb_id': ''},\n",
       "  {'start': 3599, 'end': 3604, 'label': 'NP-Person', 'kb_id': ''},\n",
       "  {'start': 4075, 'end': 4083, 'label': 'NP-Person', 'kb_id': ''},\n",
       "  {'start': 4123, 'end': 4127, 'label': 'Relation', 'kb_id': ''},\n",
       "  {'start': 2821, 'end': 2831, 'label': 'NC-Person', 'kb_id': ''},\n",
       "  {'start': 2900, 'end': 2910, 'label': 'NC-Person', 'kb_id': ''},\n",
       "  {'start': 2938, 'end': 2944, 'label': 'NC-Spatial', 'kb_id': ''},\n",
       "  {'start': 3074, 'end': 3084, 'label': 'NP-Spatial', 'kb_id': ''},\n",
       "  {'start': 3088, 'end': 3098, 'label': 'NP-Spatial', 'kb_id': ''},\n",
       "  {'start': 3102, 'end': 3111, 'label': 'NP-Spatial', 'kb_id': ''},\n",
       "  {'start': 3223, 'end': 3231, 'label': 'NP-Spatial', 'kb_id': ''},\n",
       "  {'start': 3223, 'end': 3231, 'label': 'NP-Misc', 'kb_id': ''},\n",
       "  {'start': 3343, 'end': 3356, 'label': 'NP-Person', 'kb_id': ''},\n",
       "  {'start': 3472, 'end': 3480, 'label': 'NP-Spatial', 'kb_id': ''},\n",
       "  {'start': 3502, 'end': 3517, 'label': 'NP-Spatial', 'kb_id': ''},\n",
       "  {'start': 3528, 'end': 3537, 'label': 'NC-Spatial', 'kb_id': ''},\n",
       "  {'start': 3621, 'end': 3631, 'label': 'NP-Person', 'kb_id': ''},\n",
       "  {'start': 3635, 'end': 3643, 'label': 'NP-Spatial', 'kb_id': ''},\n",
       "  {'start': 3844, 'end': 3859, 'label': 'NP-Person', 'kb_id': ''},\n",
       "  {'start': 3928, 'end': 3939, 'label': 'NP-Person', 'kb_id': ''},\n",
       "  {'start': 3991, 'end': 4001, 'label': 'NC-Spatial', 'kb_id': ''},\n",
       "  {'start': 4061, 'end': 4074, 'label': 'NC-Person', 'kb_id': ''},\n",
       "  {'start': 4128, 'end': 4136, 'label': 'NP-Spatial', 'kb_id': ''},\n",
       "  {'start': 2938, 'end': 2955, 'label': 'ENE-Spatial', 'kb_id': ''},\n",
       "  {'start': 3305, 'end': 3321, 'label': 'NP-Spatial', 'kb_id': ''},\n",
       "  {'start': 3802, 'end': 3824, 'label': 'NP-Spatial', 'kb_id': ''},\n",
       "  {'start': 4061, 'end': 4083, 'label': 'ENE-Person', 'kb_id': ''},\n",
       "  {'start': 3015, 'end': 3027, 'label': 'NP-Spatial', 'kb_id': ''}]}"
      ]
     },
     "execution_count": 20,
     "metadata": {},
     "output_type": "execute_result"
    }
   ],
   "source": [
    "etoile.spans"
   ]
  },
  {
   "cell_type": "code",
   "execution_count": 33,
   "metadata": {},
   "outputs": [
    {
     "data": {
      "text/html": [
       "<span class=\"tex2jax_ignore\"><div class=\"spans\" style=\"line-height: 2.5; direction: ltr\">* \n",
       "<span style=\"font-weight: bold; display: inline-block; position: relative; height: 60px;\">\n",
       "    BELEZO\n",
       "    \n",
       "<span style=\"background: #ddd; top: 40px; height: 4px; left: -1px; width: calc(100% + 2px); position: absolute;\">\n",
       "</span>\n",
       "\n",
       "    \n",
       "<span style=\"background: #ddd; top: 40px; height: 4px; border-top-left-radius: 3px; border-bottom-left-radius: 3px; left: -1px; width: calc(100% + 2px); position: absolute;\">\n",
       "    <span style=\"background: #ddd; z-index: 10; color: #000; top: -0.5em; padding: 2px 3px; position: absolute; font-size: 0.6em; font-weight: bold; line-height: 1; border-radius: 3px\">\n",
       "        Head\n",
       "    </span>\n",
       "</span>\n",
       "\n",
       "\n",
       "</span>\n",
       ", ( \n",
       "<span style=\"font-weight: bold; display: inline-block; position: relative; height: 60px;\">\n",
       "    Géog\n",
       "    \n",
       "<span style=\"background: #ddd; top: 40px; height: 4px; left: -1px; width: calc(100% + 2px); position: absolute;\">\n",
       "</span>\n",
       "\n",
       "    \n",
       "<span style=\"background: #ddd; top: 40px; height: 4px; border-top-left-radius: 3px; border-bottom-left-radius: 3px; left: -1px; width: calc(100% + 2px); position: absolute;\">\n",
       "    <span style=\"background: #ddd; z-index: 10; color: #000; top: -0.5em; padding: 2px 3px; position: absolute; font-size: 0.6em; font-weight: bold; line-height: 1; border-radius: 3px\">\n",
       "        Domain-mark\n",
       "    </span>\n",
       "</span>\n",
       "\n",
       "\n",
       "</span>\n",
       "\n",
       "<span style=\"font-weight: bold; display: inline-block; position: relative; height: 60px;\">\n",
       "    .\n",
       "    \n",
       "<span style=\"background: #ddd; top: 40px; height: 4px; left: -1px; width: calc(100% + 2px); position: absolute;\">\n",
       "</span>\n",
       "\n",
       "    \n",
       "</span>\n",
       ") \n",
       "<span style=\"font-weight: bold; display: inline-block; position: relative; height: 77px;\">\n",
       "    ville\n",
       "    \n",
       "<span style=\"background: #196F3D; top: 40px; height: 4px; left: -1px; width: calc(100% + 2px); position: absolute;\">\n",
       "</span>\n",
       "\n",
       "<span style=\"background: #85C1E9; top: 57px; height: 4px; left: -1px; width: calc(100% + 2px); position: absolute;\">\n",
       "</span>\n",
       "\n",
       "    \n",
       "<span style=\"background: #196F3D; top: 40px; height: 4px; border-top-left-radius: 3px; border-bottom-left-radius: 3px; left: -1px; width: calc(100% + 2px); position: absolute;\">\n",
       "    <span style=\"background: #196F3D; z-index: 10; color: #000; top: -0.5em; padding: 2px 3px; position: absolute; font-size: 0.6em; font-weight: bold; line-height: 1; border-radius: 3px\">\n",
       "        ENE-Spatial\n",
       "    </span>\n",
       "</span>\n",
       "\n",
       "\n",
       "<span style=\"background: #85C1E9; top: 57px; height: 4px; border-top-left-radius: 3px; border-bottom-left-radius: 3px; left: -1px; width: calc(100% + 2px); position: absolute;\">\n",
       "    <span style=\"background: #85C1E9; z-index: 10; color: #000; top: -0.5em; padding: 2px 3px; position: absolute; font-size: 0.6em; font-weight: bold; line-height: 1; border-radius: 3px\">\n",
       "        NC-Spatial\n",
       "    </span>\n",
       "</span>\n",
       "\n",
       "\n",
       "</span>\n",
       "\n",
       "<span style=\"font-weight: bold; display: inline-block; position: relative; height: 60px;\">\n",
       "    &amp;\n",
       "    \n",
       "<span style=\"background: #196F3D; top: 40px; height: 4px; left: -1px; width: calc(100% + 2px); position: absolute;\">\n",
       "</span>\n",
       "\n",
       "    \n",
       "</span>\n",
       "\n",
       "<span style=\"font-weight: bold; display: inline-block; position: relative; height: 77px;\">\n",
       "    palatinat\n",
       "    \n",
       "<span style=\"background: #196F3D; top: 40px; height: 4px; left: -1px; width: calc(100% + 2px); position: absolute;\">\n",
       "</span>\n",
       "\n",
       "<span style=\"background: #85C1E9; top: 57px; height: 4px; left: -1px; width: calc(100% + 2px); position: absolute;\">\n",
       "</span>\n",
       "\n",
       "    \n",
       "<span style=\"background: #85C1E9; top: 57px; height: 4px; border-top-left-radius: 3px; border-bottom-left-radius: 3px; left: -1px; width: calc(100% + 2px); position: absolute;\">\n",
       "    <span style=\"background: #85C1E9; z-index: 10; color: #000; top: -0.5em; padding: 2px 3px; position: absolute; font-size: 0.6em; font-weight: bold; line-height: 1; border-radius: 3px\">\n",
       "        NC-Spatial\n",
       "    </span>\n",
       "</span>\n",
       "\n",
       "\n",
       "</span>\n",
       "\n",
       "<span style=\"font-weight: bold; display: inline-block; position: relative; height: 60px;\">\n",
       "    de\n",
       "    \n",
       "<span style=\"background: #196F3D; top: 40px; height: 4px; left: -1px; width: calc(100% + 2px); position: absolute;\">\n",
       "</span>\n",
       "\n",
       "    \n",
       "</span>\n",
       "\n",
       "<span style=\"font-weight: bold; display: inline-block; position: relative; height: 77px;\">\n",
       "    la\n",
       "    \n",
       "<span style=\"background: #196F3D; top: 40px; height: 4px; left: -1px; width: calc(100% + 2px); position: absolute;\">\n",
       "</span>\n",
       "\n",
       "<span style=\"background: #27AE60; top: 57px; height: 4px; left: -1px; width: calc(100% + 2px); position: absolute;\">\n",
       "</span>\n",
       "\n",
       "    \n",
       "<span style=\"background: #27AE60; top: 57px; height: 4px; border-top-left-radius: 3px; border-bottom-left-radius: 3px; left: -1px; width: calc(100% + 2px); position: absolute;\">\n",
       "    <span style=\"background: #27AE60; z-index: 10; color: #000; top: -0.5em; padding: 2px 3px; position: absolute; font-size: 0.6em; font-weight: bold; line-height: 1; border-radius: 3px\">\n",
       "        NP-Spatial\n",
       "    </span>\n",
       "</span>\n",
       "\n",
       "\n",
       "</span>\n",
       "\n",
       "<span style=\"font-weight: bold; display: inline-block; position: relative; height: 77px;\">\n",
       "    Pologne\n",
       "    \n",
       "<span style=\"background: #196F3D; top: 40px; height: 4px; left: -1px; width: calc(100% + 2px); position: absolute;\">\n",
       "</span>\n",
       "\n",
       "<span style=\"background: #27AE60; top: 57px; height: 4px; left: -1px; width: calc(100% + 2px); position: absolute;\">\n",
       "</span>\n",
       "\n",
       "    \n",
       "</span>\n",
       ". </div></span>"
      ],
      "text/plain": [
       "<IPython.core.display.HTML object>"
      ]
     },
     "metadata": {},
     "output_type": "display_data"
    }
   ],
   "source": [
    "book.articles[1601]._nice_print(0)"
   ]
  },
  {
   "cell_type": "markdown",
   "metadata": {},
   "source": [
    "# Sankey"
   ]
  },
  {
   "cell_type": "code",
   "execution_count": 137,
   "metadata": {},
   "outputs": [],
   "source": [
    "book._update_counts(tag_type = ['NP-Spatial'], smooth=True)\n",
    "book.word_count.pop('')\n",
    "NP = book.word_count\n",
    "\n",
    "book._update_counts(tag_type = ['NC-Spatial'], smooth=False)\n",
    "book.word_count.pop('')\n",
    "nc = book.word_count\n",
    "\n",
    "book._update_counts(tag_type = ['ENE-Spatial'], smooth=False)\n",
    "book.word_count.pop('')\n",
    "ene = book.word_count"
   ]
  },
  {
   "cell_type": "code",
   "execution_count": 99,
   "metadata": {},
   "outputs": [],
   "source": [
    "def _get_first(article, type):\n",
    "        \"\"\"returns the token being labeled as TYPE\n",
    "        :param type: label\"\"\"\n",
    "        for span in article.spans.get('sc', []):\n",
    "            if span.get('label') == type:\n",
    "                return article.text[span.get('start', 0):span.get('end', 0)]\n",
    "        return None"
   ]
  },
  {
   "cell_type": "code",
   "execution_count": 218,
   "metadata": {},
   "outputs": [
    {
     "name": "stdout",
     "output_type": "stream",
     "text": [
      "Index(['ville', 'petite ville', 'la mer', 'la riviere', 'royaume',\n",
      "       'la province', 'pays', 'l'île', 'riviere', 'la ville', 'capitale',\n",
      "       'la côte', 'cette ville', 'comté', 'île', 'duché', 'fleuve',\n",
      "       'la capitale', 'province', 'le pays', 'le golfe', 'bourg', 'villes',\n",
      "       'l'embouchure', 'contrée', 'lac', 'golfe', 'montagnes', 'le comté',\n",
      "       'mont', 'îles', 'montagne', 'le duché', 'Cette ville', 'ancienne ville',\n",
      "       'l'empire', 'un château', 'le royaume', 'petite riviere', 'la route',\n",
      "       'le lac', 'les terres', 'village', 'une montagne', 'la terre',\n",
      "       'cette île', 'les confins', 'cercle', 'port', 'l'état',\n",
      "       'un évêché suffragant', 'le cercle', 'diocèse', 'les montagnes',\n",
      "       'le mont', 'le fleuve', 'les frontieres', 'une ville', 'cap',\n",
      "       'cette province', 'petite île', 'l'évêché', 'la principauté',\n",
      "       'petit pays', 'canton', 'ce fleuve', 'la vallée', 'cette montagne',\n",
      "       'cette riviere', 'château', 'le cap', 'promontoire', 'palatinat',\n",
      "       'le palatinat', 'la montagne', 'le territoire', 'un temple', 'bourgade',\n",
      "       'la côte occidentale', 'frontieres', 'la côte orientale',\n",
      "       'grande ville', 'une île', 'les états', 'un port', 'rivieres', 'l'ile',\n",
      "       'l'électorat', 'lieu', 'diocese', 'les îles', 'chef-lieu', 'ce pays',\n",
      "       'une plaine', 'un pont'],\n",
      "      dtype='object')\n"
     ]
    }
   ],
   "source": [
    "n_nc = 95\n",
    "n_np = 30\n",
    "\n",
    "#matrix of coocurrences with list(NP.keys())[:n] as index and list(nc.keys())[:n] columns\n",
    "matrix = pd.DataFrame(0, index=list(NP.keys())[:n_np], columns=list(nc.keys())[:n_nc])\n",
    "for article in book.articles:\n",
    "    firstnp = _get_first(article, 'NP-Spatial')\n",
    "    firstnc = _get_first(article, 'NC-Spatial')\n",
    "    #print(article.text, '\\n', firstnp, firstnc)\n",
    "    if firstnp in matrix.index and firstnc in matrix.columns:\n",
    "         matrix.loc[firstnp, firstnc] += 1\n",
    "\n",
    "\n",
    "\n",
    "CITY_PATTERN = ['ville', 'capitale', 'bourg', 'village', 'chef-lieu', 'port']\n",
    "\n",
    "AREA_PATTERN = ['province', 'comté', 'duché', 'contrée', 'terre',\n",
    "                'territoire', 'confins', 'canton', 'électorat',\n",
    "                'cercle',\n",
    "                'pays', 'royaume', 'empire', 'état', 'principauté']\n",
    "\n",
    "FRESHWATER_PATTERN = ['fleuve', 'riviere','lac', ]\n",
    "\n",
    "SEA_PATTERN = ['côte', 'golfe', 'cap', 'détroit','mer', 'embouchure', 'île', ]\n",
    "\n",
    "TOPGRAPHY_PATTERN = ['montagne', 'mont', 'vallée', 'promontoire', 'plaine']\n",
    "\n",
    "BUILDING_PATTERN = ['château', 'temple', 'pont', 'route']\n",
    "\n",
    "RELGION_PATTERN = ['évêché', 'diocèse', 'diocese', 'palatinat', 'abbaye', 'église', 'cathédrale']\n",
    "\n",
    "BORDER_PATTERN = ['frontière', 'frontiere']\n",
    "\n",
    "print(matrix.columns)\n",
    "matrix['~CITY'] = 0\n",
    "for spelling in CITY_PATTERN:\n",
    "    for column_name in matrix.columns:\n",
    "        if spelling in column_name:\n",
    "            #print(spelling, column_name)\n",
    "            matrix['~CITY'] += matrix[column_name]\n",
    "            matrix.drop(columns=column_name, inplace=True)\n",
    "\n",
    "matrix['~AREA'] = 0\n",
    "for spelling in AREA_PATTERN:\n",
    "    for column_name in matrix.columns:\n",
    "        if spelling in column_name:\n",
    "            #print(spelling, column_name)\n",
    "            matrix['~AREA'] += matrix[column_name]\n",
    "            matrix.drop(columns=column_name, inplace=True)\n",
    "\n",
    "matrix['~FRESHWATER'] = 0\n",
    "for spelling in FRESHWATER_PATTERN:\n",
    "    for column_name in matrix.columns:\n",
    "        if spelling in column_name:\n",
    "            #print(spelling, column_name)\n",
    "            matrix['~FRESHWATER'] += matrix[column_name]\n",
    "            matrix.drop(columns=column_name, inplace=True)\n",
    "\n",
    "matrix['~SEA'] = 0\n",
    "for spelling in SEA_PATTERN:\n",
    "    for column_name in matrix.columns:\n",
    "        if spelling in column_name:\n",
    "            #print(spelling, column_name)\n",
    "            matrix['~SEA'] += matrix[column_name]\n",
    "            matrix.drop(columns=column_name, inplace=True)\n",
    "\n",
    "matrix['~TOPOGRAPHY'] = 0\n",
    "for spelling in TOPGRAPHY_PATTERN:\n",
    "    for column_name in matrix.columns:\n",
    "        if spelling in column_name:\n",
    "            #print(spelling, column_name)\n",
    "            matrix['~TOPOGRAPHY'] += matrix[column_name]\n",
    "            matrix.drop(columns=column_name, inplace=True)\n",
    "        \n",
    "matrix['~BUILDING'] = 0\n",
    "for spelling in BUILDING_PATTERN:\n",
    "    for column_name in matrix.columns:\n",
    "        if spelling in column_name:\n",
    "            #print(spelling, column_name)\n",
    "            matrix['~BUILDING'] += matrix[column_name]\n",
    "            matrix.drop(columns=column_name, inplace=True)\n",
    "\n",
    "matrix['~RELIGION'] = 0\n",
    "for spelling in RELGION_PATTERN:\n",
    "    for column_name in matrix.columns:\n",
    "        if spelling in column_name:\n",
    "            #print(spelling, column_name)\n",
    "            matrix['~RELIGION'] += matrix[column_name]\n",
    "            matrix.drop(columns=column_name, inplace=True)\n",
    "\n",
    "matrix['~BORDER'] = 0\n",
    "for spelling in BORDER_PATTERN:\n",
    "    for column_name in matrix.columns:\n",
    "        if spelling in column_name:\n",
    "            #print(spelling, column_name)\n",
    "            matrix['~BORDER'] += matrix[column_name]\n",
    "            matrix.drop(columns=column_name, inplace=True)\n",
    "    \n"
   ]
  },
  {
   "cell_type": "code",
   "execution_count": 219,
   "metadata": {},
   "outputs": [
    {
     "data": {
      "text/plain": [
       "6431"
      ]
     },
     "execution_count": 219,
     "metadata": {},
     "output_type": "execute_result"
    }
   ],
   "source": [
    "#sum of all coefficients in matrix\n",
    "matrix.sum().sum()\n"
   ]
  },
  {
   "cell_type": "code",
   "execution_count": 225,
   "metadata": {},
   "outputs": [
    {
     "data": {
      "application/vnd.plotly.v1+json": {
       "config": {
        "plotlyServerURL": "https://plot.ly"
       },
       "data": [
        {
         "link": {
          "source": [
           0,
           1,
           2,
           3,
           4,
           5,
           6,
           7,
           8,
           9,
           0,
           1,
           2,
           3,
           4,
           5,
           6,
           7,
           8,
           9,
           0,
           1,
           2,
           3,
           4,
           5,
           6,
           7,
           8,
           9,
           0,
           1,
           2,
           3,
           4,
           5,
           6,
           7,
           8,
           9,
           0,
           1,
           2,
           3,
           4,
           5,
           6,
           7,
           8,
           9,
           0,
           1,
           2,
           3,
           4,
           5,
           6,
           7,
           8,
           9,
           0,
           1,
           2,
           3,
           4,
           5,
           6,
           7,
           8,
           9,
           0,
           1,
           2,
           3,
           4,
           5,
           6,
           7,
           8,
           9,
           0,
           1,
           2,
           3,
           4,
           5,
           6,
           7,
           8,
           9,
           0,
           1,
           2,
           3,
           4,
           5,
           6,
           7,
           8,
           9,
           0,
           1,
           2,
           3,
           4,
           5,
           6,
           7,
           8,
           9,
           0,
           1,
           2,
           3,
           4,
           5,
           6,
           7,
           8,
           9,
           0,
           1,
           2,
           3,
           4,
           5,
           6,
           7,
           8,
           9,
           0,
           1,
           2,
           3,
           4,
           5,
           6,
           7,
           8,
           9,
           0,
           1,
           2,
           3,
           4,
           5,
           6,
           7,
           8,
           9,
           0,
           1,
           2,
           3,
           4,
           5,
           6,
           7,
           8,
           9,
           0,
           1,
           2,
           3,
           4,
           5,
           6,
           7,
           8,
           9,
           0,
           1,
           2,
           3,
           4,
           5,
           6,
           7,
           8,
           9,
           0,
           1,
           2,
           3,
           4,
           5,
           6,
           7,
           8,
           9,
           0,
           1,
           2,
           3,
           4,
           5,
           6,
           7,
           8,
           9,
           0,
           1,
           2,
           3,
           4,
           5,
           6,
           7,
           8,
           9,
           0,
           1,
           2,
           3,
           4,
           5,
           6,
           7,
           8,
           9,
           0,
           1,
           2,
           3,
           4,
           5,
           6,
           7,
           8,
           9,
           0,
           1,
           2,
           3,
           4,
           5,
           6,
           7,
           8,
           9,
           0,
           1,
           2,
           3,
           4,
           5,
           6,
           7,
           8,
           9,
           0,
           1,
           2,
           3,
           4,
           5,
           6,
           7,
           8,
           9,
           0,
           1,
           2,
           3,
           4,
           5,
           6,
           7,
           8,
           9,
           0,
           1,
           2,
           3,
           4,
           5,
           6,
           7,
           8,
           9,
           0,
           1,
           2,
           3,
           4,
           5,
           6,
           7,
           8,
           9,
           0,
           1,
           2,
           3,
           4,
           5,
           6,
           7,
           8,
           9
          ],
          "target": [
           10,
           10,
           10,
           10,
           10,
           10,
           10,
           10,
           10,
           10,
           11,
           11,
           11,
           11,
           11,
           11,
           11,
           11,
           11,
           11,
           12,
           12,
           12,
           12,
           12,
           12,
           12,
           12,
           12,
           12,
           13,
           13,
           13,
           13,
           13,
           13,
           13,
           13,
           13,
           13,
           14,
           14,
           14,
           14,
           14,
           14,
           14,
           14,
           14,
           14,
           15,
           15,
           15,
           15,
           15,
           15,
           15,
           15,
           15,
           15,
           16,
           16,
           16,
           16,
           16,
           16,
           16,
           16,
           16,
           16,
           17,
           17,
           17,
           17,
           17,
           17,
           17,
           17,
           17,
           17,
           18,
           18,
           18,
           18,
           18,
           18,
           18,
           18,
           18,
           18,
           19,
           19,
           19,
           19,
           19,
           19,
           19,
           19,
           19,
           19,
           20,
           20,
           20,
           20,
           20,
           20,
           20,
           20,
           20,
           20,
           21,
           21,
           21,
           21,
           21,
           21,
           21,
           21,
           21,
           21,
           22,
           22,
           22,
           22,
           22,
           22,
           22,
           22,
           22,
           22,
           23,
           23,
           23,
           23,
           23,
           23,
           23,
           23,
           23,
           23,
           24,
           24,
           24,
           24,
           24,
           24,
           24,
           24,
           24,
           24,
           25,
           25,
           25,
           25,
           25,
           25,
           25,
           25,
           25,
           25,
           26,
           26,
           26,
           26,
           26,
           26,
           26,
           26,
           26,
           26,
           27,
           27,
           27,
           27,
           27,
           27,
           27,
           27,
           27,
           27,
           28,
           28,
           28,
           28,
           28,
           28,
           28,
           28,
           28,
           28,
           29,
           29,
           29,
           29,
           29,
           29,
           29,
           29,
           29,
           29,
           30,
           30,
           30,
           30,
           30,
           30,
           30,
           30,
           30,
           30,
           31,
           31,
           31,
           31,
           31,
           31,
           31,
           31,
           31,
           31,
           32,
           32,
           32,
           32,
           32,
           32,
           32,
           32,
           32,
           32,
           33,
           33,
           33,
           33,
           33,
           33,
           33,
           33,
           33,
           33,
           34,
           34,
           34,
           34,
           34,
           34,
           34,
           34,
           34,
           34,
           35,
           35,
           35,
           35,
           35,
           35,
           35,
           35,
           35,
           35,
           36,
           36,
           36,
           36,
           36,
           36,
           36,
           36,
           36,
           36,
           37,
           37,
           37,
           37,
           37,
           37,
           37,
           37,
           37,
           37,
           38,
           38,
           38,
           38,
           38,
           38,
           38,
           38,
           38,
           38,
           39,
           39,
           39,
           39,
           39,
           39,
           39,
           39,
           39,
           39
          ],
          "value": [
           0,
           0,
           659,
           223,
           92,
           7,
           5,
           11,
           9,
           5,
           0,
           1,
           509,
           202,
           133,
           31,
           30,
           7,
           0,
           1,
           0,
           4,
           875,
           163,
           153,
           25,
           25,
           4,
           95,
           7,
           0,
           0,
           292,
           124,
           43,
           49,
           18,
           0,
           0,
           1,
           0,
           0,
           134,
           150,
           44,
           35,
           24,
           1,
           0,
           0,
           0,
           1,
           319,
           91,
           59,
           21,
           17,
           1,
           3,
           3,
           0,
           0,
           211,
           69,
           54,
           8,
           4,
           1,
           3,
           1,
           0,
           0,
           17,
           17,
           8,
           3,
           3,
           0,
           0,
           0,
           0,
           0,
           96,
           5,
           12,
           0,
           3,
           0,
           12,
           1,
           0,
           2,
           73,
           3,
           32,
           9,
           13,
           0,
           0,
           1,
           0,
           0,
           2,
           0,
           1,
           0,
           0,
           1,
           0,
           0,
           0,
           0,
           0,
           0,
           0,
           0,
           0,
           0,
           0,
           0,
           0,
           0,
           0,
           0,
           0,
           0,
           0,
           0,
           0,
           0,
           0,
           2,
           60,
           26,
           3,
           49,
           2,
           0,
           0,
           0,
           0,
           1,
           97,
           12,
           6,
           3,
           2,
           0,
           0,
           0,
           0,
           0,
           22,
           8,
           7,
           0,
           0,
           0,
           0,
           1,
           0,
           0,
           55,
           6,
           8,
           12,
           4,
           1,
           0,
           0,
           0,
           0,
           26,
           5,
           2,
           2,
           1,
           0,
           0,
           0,
           0,
           0,
           0,
           2,
           1,
           25,
           3,
           0,
           0,
           0,
           0,
           0,
           26,
           11,
           14,
           7,
           3,
           0,
           0,
           0,
           0,
           0,
           8,
           3,
           0,
           0,
           1,
           1,
           0,
           0,
           0,
           0,
           16,
           7,
           3,
           18,
           0,
           0,
           0,
           1,
           0,
           0,
           3,
           1,
           0,
           0,
           0,
           0,
           0,
           0,
           0,
           1,
           5,
           1,
           1,
           0,
           8,
           0,
           0,
           0,
           0,
           1,
           58,
           35,
           11,
           0,
           7,
           3,
           0,
           0,
           0,
           0,
           9,
           4,
           0,
           0,
           0,
           0,
           0,
           0,
           0,
           0,
           3,
           1,
           0,
           4,
           0,
           0,
           0,
           0,
           0,
           0,
           52,
           41,
           17,
           2,
           2,
           0,
           0,
           1,
           0,
           0,
           54,
           25,
           13,
           9,
           3,
           1,
           0,
           1,
           0,
           0,
           76,
           14,
           8,
           3,
           7,
           2,
           0,
           0
          ]
         },
         "node": {
          "label": [
           "l'ile",
           "lieu",
           "~CITY",
           "~AREA",
           "~FRESHWATER",
           "~SEA",
           "~TOPOGRAPHY",
           "~BUILDING",
           "~RELIGION",
           "~BORDER",
           "Allemagne",
           "Italie",
           "France",
           "Asie",
           "Afrique",
           "Espagne",
           "Angleterre",
           "Naples",
           "Pologne",
           "Sicile",
           "Paris",
           "Amérique septentrionale",
           "Amérique méridionale",
           "Indes",
           "Perse",
           "Hongrie",
           "Grece",
           "Danube",
           "Méditerranée",
           "Europe",
           "Rhin",
           "Venise",
           "Egypte",
           "Rome",
           "Suisse",
           "Saxe",
           "Bretagne",
           "Irlande",
           "Suede",
           "Portugal"
          ],
          "line": {
           "color": "black",
           "width": 0.5
          },
          "pad": 15,
          "thickness": 20
         },
         "type": "sankey"
        }
       ],
       "layout": {
        "font": {
         "size": 8
        },
        "height": 500,
        "margin": {
         "t": 50
        },
        "template": {
         "data": {
          "bar": [
           {
            "error_x": {
             "color": "#2a3f5f"
            },
            "error_y": {
             "color": "#2a3f5f"
            },
            "marker": {
             "line": {
              "color": "#E5ECF6",
              "width": 0.5
             },
             "pattern": {
              "fillmode": "overlay",
              "size": 10,
              "solidity": 0.2
             }
            },
            "type": "bar"
           }
          ],
          "barpolar": [
           {
            "marker": {
             "line": {
              "color": "#E5ECF6",
              "width": 0.5
             },
             "pattern": {
              "fillmode": "overlay",
              "size": 10,
              "solidity": 0.2
             }
            },
            "type": "barpolar"
           }
          ],
          "carpet": [
           {
            "aaxis": {
             "endlinecolor": "#2a3f5f",
             "gridcolor": "white",
             "linecolor": "white",
             "minorgridcolor": "white",
             "startlinecolor": "#2a3f5f"
            },
            "baxis": {
             "endlinecolor": "#2a3f5f",
             "gridcolor": "white",
             "linecolor": "white",
             "minorgridcolor": "white",
             "startlinecolor": "#2a3f5f"
            },
            "type": "carpet"
           }
          ],
          "choropleth": [
           {
            "colorbar": {
             "outlinewidth": 0,
             "ticks": ""
            },
            "type": "choropleth"
           }
          ],
          "contour": [
           {
            "colorbar": {
             "outlinewidth": 0,
             "ticks": ""
            },
            "colorscale": [
             [
              0,
              "#0d0887"
             ],
             [
              0.1111111111111111,
              "#46039f"
             ],
             [
              0.2222222222222222,
              "#7201a8"
             ],
             [
              0.3333333333333333,
              "#9c179e"
             ],
             [
              0.4444444444444444,
              "#bd3786"
             ],
             [
              0.5555555555555556,
              "#d8576b"
             ],
             [
              0.6666666666666666,
              "#ed7953"
             ],
             [
              0.7777777777777778,
              "#fb9f3a"
             ],
             [
              0.8888888888888888,
              "#fdca26"
             ],
             [
              1,
              "#f0f921"
             ]
            ],
            "type": "contour"
           }
          ],
          "contourcarpet": [
           {
            "colorbar": {
             "outlinewidth": 0,
             "ticks": ""
            },
            "type": "contourcarpet"
           }
          ],
          "heatmap": [
           {
            "colorbar": {
             "outlinewidth": 0,
             "ticks": ""
            },
            "colorscale": [
             [
              0,
              "#0d0887"
             ],
             [
              0.1111111111111111,
              "#46039f"
             ],
             [
              0.2222222222222222,
              "#7201a8"
             ],
             [
              0.3333333333333333,
              "#9c179e"
             ],
             [
              0.4444444444444444,
              "#bd3786"
             ],
             [
              0.5555555555555556,
              "#d8576b"
             ],
             [
              0.6666666666666666,
              "#ed7953"
             ],
             [
              0.7777777777777778,
              "#fb9f3a"
             ],
             [
              0.8888888888888888,
              "#fdca26"
             ],
             [
              1,
              "#f0f921"
             ]
            ],
            "type": "heatmap"
           }
          ],
          "heatmapgl": [
           {
            "colorbar": {
             "outlinewidth": 0,
             "ticks": ""
            },
            "colorscale": [
             [
              0,
              "#0d0887"
             ],
             [
              0.1111111111111111,
              "#46039f"
             ],
             [
              0.2222222222222222,
              "#7201a8"
             ],
             [
              0.3333333333333333,
              "#9c179e"
             ],
             [
              0.4444444444444444,
              "#bd3786"
             ],
             [
              0.5555555555555556,
              "#d8576b"
             ],
             [
              0.6666666666666666,
              "#ed7953"
             ],
             [
              0.7777777777777778,
              "#fb9f3a"
             ],
             [
              0.8888888888888888,
              "#fdca26"
             ],
             [
              1,
              "#f0f921"
             ]
            ],
            "type": "heatmapgl"
           }
          ],
          "histogram": [
           {
            "marker": {
             "pattern": {
              "fillmode": "overlay",
              "size": 10,
              "solidity": 0.2
             }
            },
            "type": "histogram"
           }
          ],
          "histogram2d": [
           {
            "colorbar": {
             "outlinewidth": 0,
             "ticks": ""
            },
            "colorscale": [
             [
              0,
              "#0d0887"
             ],
             [
              0.1111111111111111,
              "#46039f"
             ],
             [
              0.2222222222222222,
              "#7201a8"
             ],
             [
              0.3333333333333333,
              "#9c179e"
             ],
             [
              0.4444444444444444,
              "#bd3786"
             ],
             [
              0.5555555555555556,
              "#d8576b"
             ],
             [
              0.6666666666666666,
              "#ed7953"
             ],
             [
              0.7777777777777778,
              "#fb9f3a"
             ],
             [
              0.8888888888888888,
              "#fdca26"
             ],
             [
              1,
              "#f0f921"
             ]
            ],
            "type": "histogram2d"
           }
          ],
          "histogram2dcontour": [
           {
            "colorbar": {
             "outlinewidth": 0,
             "ticks": ""
            },
            "colorscale": [
             [
              0,
              "#0d0887"
             ],
             [
              0.1111111111111111,
              "#46039f"
             ],
             [
              0.2222222222222222,
              "#7201a8"
             ],
             [
              0.3333333333333333,
              "#9c179e"
             ],
             [
              0.4444444444444444,
              "#bd3786"
             ],
             [
              0.5555555555555556,
              "#d8576b"
             ],
             [
              0.6666666666666666,
              "#ed7953"
             ],
             [
              0.7777777777777778,
              "#fb9f3a"
             ],
             [
              0.8888888888888888,
              "#fdca26"
             ],
             [
              1,
              "#f0f921"
             ]
            ],
            "type": "histogram2dcontour"
           }
          ],
          "mesh3d": [
           {
            "colorbar": {
             "outlinewidth": 0,
             "ticks": ""
            },
            "type": "mesh3d"
           }
          ],
          "parcoords": [
           {
            "line": {
             "colorbar": {
              "outlinewidth": 0,
              "ticks": ""
             }
            },
            "type": "parcoords"
           }
          ],
          "pie": [
           {
            "automargin": true,
            "type": "pie"
           }
          ],
          "scatter": [
           {
            "fillpattern": {
             "fillmode": "overlay",
             "size": 10,
             "solidity": 0.2
            },
            "type": "scatter"
           }
          ],
          "scatter3d": [
           {
            "line": {
             "colorbar": {
              "outlinewidth": 0,
              "ticks": ""
             }
            },
            "marker": {
             "colorbar": {
              "outlinewidth": 0,
              "ticks": ""
             }
            },
            "type": "scatter3d"
           }
          ],
          "scattercarpet": [
           {
            "marker": {
             "colorbar": {
              "outlinewidth": 0,
              "ticks": ""
             }
            },
            "type": "scattercarpet"
           }
          ],
          "scattergeo": [
           {
            "marker": {
             "colorbar": {
              "outlinewidth": 0,
              "ticks": ""
             }
            },
            "type": "scattergeo"
           }
          ],
          "scattergl": [
           {
            "marker": {
             "colorbar": {
              "outlinewidth": 0,
              "ticks": ""
             }
            },
            "type": "scattergl"
           }
          ],
          "scattermapbox": [
           {
            "marker": {
             "colorbar": {
              "outlinewidth": 0,
              "ticks": ""
             }
            },
            "type": "scattermapbox"
           }
          ],
          "scatterpolar": [
           {
            "marker": {
             "colorbar": {
              "outlinewidth": 0,
              "ticks": ""
             }
            },
            "type": "scatterpolar"
           }
          ],
          "scatterpolargl": [
           {
            "marker": {
             "colorbar": {
              "outlinewidth": 0,
              "ticks": ""
             }
            },
            "type": "scatterpolargl"
           }
          ],
          "scatterternary": [
           {
            "marker": {
             "colorbar": {
              "outlinewidth": 0,
              "ticks": ""
             }
            },
            "type": "scatterternary"
           }
          ],
          "surface": [
           {
            "colorbar": {
             "outlinewidth": 0,
             "ticks": ""
            },
            "colorscale": [
             [
              0,
              "#0d0887"
             ],
             [
              0.1111111111111111,
              "#46039f"
             ],
             [
              0.2222222222222222,
              "#7201a8"
             ],
             [
              0.3333333333333333,
              "#9c179e"
             ],
             [
              0.4444444444444444,
              "#bd3786"
             ],
             [
              0.5555555555555556,
              "#d8576b"
             ],
             [
              0.6666666666666666,
              "#ed7953"
             ],
             [
              0.7777777777777778,
              "#fb9f3a"
             ],
             [
              0.8888888888888888,
              "#fdca26"
             ],
             [
              1,
              "#f0f921"
             ]
            ],
            "type": "surface"
           }
          ],
          "table": [
           {
            "cells": {
             "fill": {
              "color": "#EBF0F8"
             },
             "line": {
              "color": "white"
             }
            },
            "header": {
             "fill": {
              "color": "#C8D4E3"
             },
             "line": {
              "color": "white"
             }
            },
            "type": "table"
           }
          ]
         },
         "layout": {
          "annotationdefaults": {
           "arrowcolor": "#2a3f5f",
           "arrowhead": 0,
           "arrowwidth": 1
          },
          "autotypenumbers": "strict",
          "coloraxis": {
           "colorbar": {
            "outlinewidth": 0,
            "ticks": ""
           }
          },
          "colorscale": {
           "diverging": [
            [
             0,
             "#8e0152"
            ],
            [
             0.1,
             "#c51b7d"
            ],
            [
             0.2,
             "#de77ae"
            ],
            [
             0.3,
             "#f1b6da"
            ],
            [
             0.4,
             "#fde0ef"
            ],
            [
             0.5,
             "#f7f7f7"
            ],
            [
             0.6,
             "#e6f5d0"
            ],
            [
             0.7,
             "#b8e186"
            ],
            [
             0.8,
             "#7fbc41"
            ],
            [
             0.9,
             "#4d9221"
            ],
            [
             1,
             "#276419"
            ]
           ],
           "sequential": [
            [
             0,
             "#0d0887"
            ],
            [
             0.1111111111111111,
             "#46039f"
            ],
            [
             0.2222222222222222,
             "#7201a8"
            ],
            [
             0.3333333333333333,
             "#9c179e"
            ],
            [
             0.4444444444444444,
             "#bd3786"
            ],
            [
             0.5555555555555556,
             "#d8576b"
            ],
            [
             0.6666666666666666,
             "#ed7953"
            ],
            [
             0.7777777777777778,
             "#fb9f3a"
            ],
            [
             0.8888888888888888,
             "#fdca26"
            ],
            [
             1,
             "#f0f921"
            ]
           ],
           "sequentialminus": [
            [
             0,
             "#0d0887"
            ],
            [
             0.1111111111111111,
             "#46039f"
            ],
            [
             0.2222222222222222,
             "#7201a8"
            ],
            [
             0.3333333333333333,
             "#9c179e"
            ],
            [
             0.4444444444444444,
             "#bd3786"
            ],
            [
             0.5555555555555556,
             "#d8576b"
            ],
            [
             0.6666666666666666,
             "#ed7953"
            ],
            [
             0.7777777777777778,
             "#fb9f3a"
            ],
            [
             0.8888888888888888,
             "#fdca26"
            ],
            [
             1,
             "#f0f921"
            ]
           ]
          },
          "colorway": [
           "#636efa",
           "#EF553B",
           "#00cc96",
           "#ab63fa",
           "#FFA15A",
           "#19d3f3",
           "#FF6692",
           "#B6E880",
           "#FF97FF",
           "#FECB52"
          ],
          "font": {
           "color": "#2a3f5f"
          },
          "geo": {
           "bgcolor": "white",
           "lakecolor": "white",
           "landcolor": "#E5ECF6",
           "showlakes": true,
           "showland": true,
           "subunitcolor": "white"
          },
          "hoverlabel": {
           "align": "left"
          },
          "hovermode": "closest",
          "mapbox": {
           "style": "light"
          },
          "paper_bgcolor": "white",
          "plot_bgcolor": "#E5ECF6",
          "polar": {
           "angularaxis": {
            "gridcolor": "white",
            "linecolor": "white",
            "ticks": ""
           },
           "bgcolor": "#E5ECF6",
           "radialaxis": {
            "gridcolor": "white",
            "linecolor": "white",
            "ticks": ""
           }
          },
          "scene": {
           "xaxis": {
            "backgroundcolor": "#E5ECF6",
            "gridcolor": "white",
            "gridwidth": 2,
            "linecolor": "white",
            "showbackground": true,
            "ticks": "",
            "zerolinecolor": "white"
           },
           "yaxis": {
            "backgroundcolor": "#E5ECF6",
            "gridcolor": "white",
            "gridwidth": 2,
            "linecolor": "white",
            "showbackground": true,
            "ticks": "",
            "zerolinecolor": "white"
           },
           "zaxis": {
            "backgroundcolor": "#E5ECF6",
            "gridcolor": "white",
            "gridwidth": 2,
            "linecolor": "white",
            "showbackground": true,
            "ticks": "",
            "zerolinecolor": "white"
           }
          },
          "shapedefaults": {
           "line": {
            "color": "#2a3f5f"
           }
          },
          "ternary": {
           "aaxis": {
            "gridcolor": "white",
            "linecolor": "white",
            "ticks": ""
           },
           "baxis": {
            "gridcolor": "white",
            "linecolor": "white",
            "ticks": ""
           },
           "bgcolor": "#E5ECF6",
           "caxis": {
            "gridcolor": "white",
            "linecolor": "white",
            "ticks": ""
           }
          },
          "title": {
           "x": 0.05
          },
          "xaxis": {
           "automargin": true,
           "gridcolor": "white",
           "linecolor": "white",
           "ticks": "",
           "title": {
            "standoff": 15
           },
           "zerolinecolor": "white",
           "zerolinewidth": 2
          },
          "yaxis": {
           "automargin": true,
           "gridcolor": "white",
           "linecolor": "white",
           "ticks": "",
           "title": {
            "standoff": 15
           },
           "zerolinecolor": "white",
           "zerolinewidth": 2
          }
         }
        },
        "title": {
         "text": "Co-occurences du 1er NC et 1er NP<br> À gauche, les NC sont regroupés dans des catégories<br>À droite, les 30 NP les plus fréquents seulement sont affichés",
         "x": 0.5,
         "y": 0.97
        },
        "width": 800
       }
      }
     },
     "metadata": {},
     "output_type": "display_data"
    }
   ],
   "source": [
    "label = matrix.columns.tolist() + matrix.index.tolist()\n",
    "\n",
    "link = dict(source=[], target=[], value=[])\n",
    "for idx,row in matrix.iterrows():\n",
    "    for col in row.index:\n",
    "        link['source'].append(label.index(col))\n",
    "        link['target'].append(label.index(idx))\n",
    "        link['value'].append(row[col])\n",
    "\n",
    "fig = go.Figure(data=[go.Sankey(node = dict(pad = 15,\n",
    "                                            thickness = 20,\n",
    "                                            line = dict(color = \"black\", width = 0.5),\n",
    "                                            label = label),\n",
    "                                            link = link)\n",
    "                                            ],\n",
    "                                            )\n",
    "\n",
    "\n",
    "fig.update_layout(\n",
    "    title_text=\"Co-occurences du 1er NC et 1er NP<br> À gauche, les NC sont regroupés dans des catégories<br>À droite, les 30 NP les plus fréquents seulement sont affichés\",\n",
    "    title_x=0.5,  # Center the title horizontally (0 to 1)\n",
    "    title_y=0.97,  # Move the title up vertically (0 to 1)\n",
    "    font_size=8,\n",
    "    width=600,\n",
    "    height=400,\n",
    "    margin=dict(t=50)  # Increase the top margin to accommodate the title\n",
    ")\n",
    "\n",
    "#size\n",
    "fig.update_layout(width=800, height=500)\n",
    "fig.show()\n"
   ]
  },
  {
   "cell_type": "code",
   "execution_count": 226,
   "metadata": {},
   "outputs": [],
   "source": [
    "import plotly.graph_objects as go\n",
    "from plotly.subplots import make_subplots\n",
    "import plotly.io as pio\n",
    "\n",
    "# Add your existing code here (from label to fig.show())\n",
    "\n",
    "# Generate the HTML string\n",
    "html_string = pio.to_html(fig, full_html=False, include_plotlyjs='cdn')\n",
    "\n",
    "# Write the HTML string to a file\n",
    "with open(\"my_sankey_diagram.html\", \"w\") as f:\n",
    "    f.write(html_string)\n"
   ]
  },
  {
   "cell_type": "markdown",
   "metadata": {},
   "source": [
    "# Term frenquencies"
   ]
  },
  {
   "cell_type": "code",
   "execution_count": 187,
   "metadata": {},
   "outputs": [
    {
     "data": {
      "image/png": "[encoded data removed]",
      "text/plain": [
       "<Figure size 1000x600 with 1 Axes>"
      ]
     },
     "metadata": {},
     "output_type": "display_data"
    }
   ],
   "source": [
    "import seaborn as sns\n",
    "import matplotlib.pyplot as plt\n",
    "import pandas as pd\n",
    "book._update_counts(tag_type = ['NC-Spatial'], smooth=False)\n",
    "keys = sorted(book.word_count.items(), key=lambda x: x[1], reverse=True)[:30]\n",
    "tfidf = [book.tfidf(key[0]) for key in keys]\n",
    "data = {'Word': [key[0] for key in keys],\n",
    "        'TF': [book.tf(key[0]) for key in keys],\n",
    "        'IDF': [book.idf(key[0]) for key in keys],\n",
    "        'TF-IDF': tfidf}\n",
    "\n",
    "# Convert the dictionary into a DataFrame\n",
    "df = pd.DataFrame(data)\n",
    "\n",
    "# Plotting using Seaborn\n",
    "plt.figure(figsize=(10, 6))\n",
    "sns.barplot(x='TF-IDF', y='Word', data=df, palette='viridis')\n",
    "plt.title('Top 25 Words TF-IDF')\n",
    "plt.xlabel('TF-IDF Value')\n",
    "plt.ylabel('Word')\n",
    "plt.show()\n"
   ]
  },
  {
   "cell_type": "code",
   "execution_count": 188,
   "metadata": {},
   "outputs": [
    {
     "data": {
      "image/png": "[encoded data removed]",
      "text/plain": [
       "<Figure size 1000x600 with 1 Axes>"
      ]
     },
     "metadata": {},
     "output_type": "display_data"
    }
   ],
   "source": [
    "\n",
    "plt.figure(figsize=(10, 6))\n",
    "sns.barplot(x='TF', y='Word', data=df, palette='viridis')\n",
    "plt.title('Top 25 NP Frequency')\n",
    "plt.xlabel('term frequency')\n",
    "plt.ylabel('NP')\n",
    "plt.show()\n",
    "\n"
   ]
  },
  {
   "cell_type": "code",
   "execution_count": 189,
   "metadata": {},
   "outputs": [
    {
     "data": {
      "image/png": "[encoded data removed]",
      "text/plain": [
       "<Figure size 1000x600 with 1 Axes>"
      ]
     },
     "metadata": {},
     "output_type": "display_data"
    }
   ],
   "source": [
    "plt.figure(figsize=(10, 6))\n",
    "sns.barplot(x='IDF', y='Word', data=df, palette='viridis')\n",
    "plt.title('Top 25 Words Inverse Document Frequency')\n",
    "plt.xlabel('IDF')\n",
    "plt.ylabel('Word')\n",
    "plt.show()"
   ]
  },
  {
   "cell_type": "markdown",
   "metadata": {},
   "source": [
    "# spacy doc original code"
   ]
  },
  {
   "cell_type": "code",
   "execution_count": 190,
   "metadata": {},
   "outputs": [],
   "source": [
    "#get the doc from jsonl that has  'volume': 6, 'article': 244\n",
    "def get_doc_from_jsonl(volume, article):\n",
    "    for index,doc in enumerate(jsonl):\n",
    "        if doc['volume'] == volume and doc['article'] == article:\n",
    "            return doc, docs[index]\n",
    "    return None\n",
    "\n",
    "etoile, doc = get_doc_from_jsonl(13,1416)"
   ]
  },
  {
   "cell_type": "code",
   "execution_count": 191,
   "metadata": {},
   "outputs": [
    {
     "data": {
      "text/plain": [
       "{'text': 'PRIEST, Saint, (Géog. mod.) en latin du moyen âge, Castrum sancti praejecti ; petite ville, ou plûtôt bourg de France dans le Forez, au diocèse de Lyon, avec le titre de baronnie. (D. J.)',\n",
       " 'tokens': [{'id': 0, 'start': 0, 'end': 6},\n",
       "  {'id': 1, 'start': 6, 'end': 7},\n",
       "  {'id': 2, 'start': 8, 'end': 13},\n",
       "  {'id': 3, 'start': 13, 'end': 14},\n",
       "  {'id': 4, 'start': 15, 'end': 16},\n",
       "  {'id': 5, 'start': 16, 'end': 20},\n",
       "  {'id': 6, 'start': 20, 'end': 21},\n",
       "  {'id': 7, 'start': 22, 'end': 25},\n",
       "  {'id': 8, 'start': 25, 'end': 26},\n",
       "  {'id': 9, 'start': 26, 'end': 27},\n",
       "  {'id': 10, 'start': 28, 'end': 30},\n",
       "  {'id': 11, 'start': 31, 'end': 36},\n",
       "  {'id': 12, 'start': 37, 'end': 39},\n",
       "  {'id': 13, 'start': 40, 'end': 45},\n",
       "  {'id': 14, 'start': 46, 'end': 49},\n",
       "  {'id': 15, 'start': 49, 'end': 50},\n",
       "  {'id': 16, 'start': 51, 'end': 58},\n",
       "  {'id': 17, 'start': 59, 'end': 65},\n",
       "  {'id': 18, 'start': 66, 'end': 75},\n",
       "  {'id': 19, 'start': 76, 'end': 77},\n",
       "  {'id': 20, 'start': 78, 'end': 84},\n",
       "  {'id': 21, 'start': 85, 'end': 90},\n",
       "  {'id': 22, 'start': 90, 'end': 91},\n",
       "  {'id': 23, 'start': 92, 'end': 94},\n",
       "  {'id': 24, 'start': 95, 'end': 101},\n",
       "  {'id': 25, 'start': 102, 'end': 107},\n",
       "  {'id': 26, 'start': 108, 'end': 110},\n",
       "  {'id': 27, 'start': 111, 'end': 117},\n",
       "  {'id': 28, 'start': 118, 'end': 122},\n",
       "  {'id': 29, 'start': 123, 'end': 125},\n",
       "  {'id': 30, 'start': 126, 'end': 131},\n",
       "  {'id': 31, 'start': 131, 'end': 132},\n",
       "  {'id': 32, 'start': 133, 'end': 135},\n",
       "  {'id': 33, 'start': 136, 'end': 143},\n",
       "  {'id': 34, 'start': 144, 'end': 146},\n",
       "  {'id': 35, 'start': 147, 'end': 151},\n",
       "  {'id': 36, 'start': 151, 'end': 152},\n",
       "  {'id': 37, 'start': 153, 'end': 157},\n",
       "  {'id': 38, 'start': 158, 'end': 160},\n",
       "  {'id': 39, 'start': 161, 'end': 166},\n",
       "  {'id': 40, 'start': 167, 'end': 169},\n",
       "  {'id': 41, 'start': 170, 'end': 178},\n",
       "  {'id': 42, 'start': 178, 'end': 179},\n",
       "  {'id': 43, 'start': 180, 'end': 181},\n",
       "  {'id': 44, 'start': 181, 'end': 183},\n",
       "  {'id': 45, 'start': 184, 'end': 186},\n",
       "  {'id': 46, 'start': 186, 'end': 187}],\n",
       " 'spans': {'sc': [{'start': 102,\n",
       "    'end': 107,\n",
       "    'label': 'NC-Spatial',\n",
       "    'kb_id': ''},\n",
       "   {'start': 111, 'end': 117, 'label': 'NP-Spatial', 'kb_id': ''},\n",
       "   {'start': 118, 'end': 122, 'label': 'Relation', 'kb_id': ''},\n",
       "   {'start': 133, 'end': 135, 'label': 'Relation', 'kb_id': ''},\n",
       "   {'start': 136, 'end': 143, 'label': 'NC-Spatial', 'kb_id': ''},\n",
       "   {'start': 147, 'end': 151, 'label': 'NP-Spatial', 'kb_id': ''},\n",
       "   {'start': 78, 'end': 90, 'label': 'NC-Spatial', 'kb_id': ''},\n",
       "   {'start': 123, 'end': 131, 'label': 'NP-Spatial', 'kb_id': ''},\n",
       "   {'start': 102, 'end': 117, 'label': 'ENE-Spatial', 'kb_id': ''},\n",
       "   {'start': 136, 'end': 151, 'label': 'ENE-Spatial', 'kb_id': ''},\n",
       "   {'start': 16, 'end': 26, 'label': 'Domain-mark', 'kb_id': ''},\n",
       "   {'start': 102, 'end': 131, 'label': 'ENE-Spatial', 'kb_id': ''},\n",
       "   {'start': 78, 'end': 131, 'label': 'ENE-Spatial', 'kb_id': ''},\n",
       "   {'start': 78, 'end': 151, 'label': 'ENE-Spatial', 'kb_id': ''}]}}"
      ]
     },
     "execution_count": 191,
     "metadata": {},
     "output_type": "execute_result"
    }
   ],
   "source": [
    "doc.to_json()\n"
   ]
  },
  {
   "cell_type": "code",
   "execution_count": 192,
   "metadata": {},
   "outputs": [
    {
     "name": "stdout",
     "output_type": "stream",
     "text": [
      "work\n",
      "volume\n",
      "article\n",
      "paragraph\n",
      "headword\n",
      "authors\n",
      "domains\n",
      "text\n",
      "tokens\n",
      " '-- id\n",
      " '-- start\n",
      " '-- end\n",
      "spans\n",
      " '-- sc\n",
      " '--  '-- start\n",
      " '--  '-- end\n",
      " '--  '-- label\n",
      " '--  '-- kb_id\n"
     ]
    }
   ],
   "source": [
    "def print_json_architecture(json_data, indent=0):\n",
    "    for key, value in json_data.items():\n",
    "        print(\" '-- \" * indent + key)  # Print the key with appropriate indentation\n",
    "        if isinstance(value, dict):\n",
    "            print_json_architecture(value, indent + 1)  # Recursively call the function for nested dictionaries\n",
    "        if isinstance(value, list):\n",
    "            print_json_architecture(value[0], indent + 1)  # Recursively call the function for nested dictionaries\n",
    "\n",
    "print_json_architecture(etoile)"
   ]
  },
  {
   "cell_type": "code",
   "execution_count": 193,
   "metadata": {},
   "outputs": [
    {
     "data": {
      "text/html": [
       "<span class=\"tex2jax_ignore\"><div class=\"spans\" style=\"line-height: 2.5; direction: ltr\">PRIEST , Saint , ( \n",
       "<span style=\"font-weight: bold; display: inline-block; position: relative; height: 60px;\">\n",
       "    Géog\n",
       "    \n",
       "<span style=\"background: #ddd; top: 40px; height: 4px; left: -1px; width: calc(100% + 2px); position: absolute;\">\n",
       "</span>\n",
       "\n",
       "    \n",
       "<span style=\"background: #ddd; top: 40px; height: 4px; border-top-left-radius: 3px; border-bottom-left-radius: 3px; left: -1px; width: calc(100% + 2px); position: absolute;\">\n",
       "    <span style=\"background: #ddd; z-index: 10; color: #000; top: -0.5em; padding: 2px 3px; position: absolute; font-size: 0.6em; font-weight: bold; line-height: 1; border-radius: 3px\">\n",
       "        Domain-mark\n",
       "    </span>\n",
       "</span>\n",
       "\n",
       "\n",
       "</span>\n",
       "\n",
       "<span style=\"font-weight: bold; display: inline-block; position: relative; height: 60px;\">\n",
       "    .\n",
       "    \n",
       "<span style=\"background: #ddd; top: 40px; height: 4px; left: -1px; width: calc(100% + 2px); position: absolute;\">\n",
       "</span>\n",
       "\n",
       "    \n",
       "</span>\n",
       "\n",
       "<span style=\"font-weight: bold; display: inline-block; position: relative; height: 60px;\">\n",
       "    mod\n",
       "    \n",
       "<span style=\"background: #ddd; top: 40px; height: 4px; left: -1px; width: calc(100% + 2px); position: absolute;\">\n",
       "</span>\n",
       "\n",
       "    \n",
       "</span>\n",
       "\n",
       "<span style=\"font-weight: bold; display: inline-block; position: relative; height: 60px;\">\n",
       "    .\n",
       "    \n",
       "<span style=\"background: #ddd; top: 40px; height: 4px; left: -1px; width: calc(100% + 2px); position: absolute;\">\n",
       "</span>\n",
       "\n",
       "    \n",
       "</span>\n",
       ") en latin du moyen âge , Castrum sancti praejecti ; \n",
       "<span style=\"font-weight: bold; display: inline-block; position: relative; height: 94px;\">\n",
       "    petite\n",
       "    \n",
       "<span style=\"background: #196F3D; top: 40px; height: 4px; left: -1px; width: calc(100% + 2px); position: absolute;\">\n",
       "</span>\n",
       "\n",
       "<span style=\"background: #196F3D; top: 57px; height: 4px; left: -1px; width: calc(100% + 2px); position: absolute;\">\n",
       "</span>\n",
       "\n",
       "<span style=\"background: #85C1E9; top: 74px; height: 4px; left: -1px; width: calc(100% + 2px); position: absolute;\">\n",
       "</span>\n",
       "\n",
       "    \n",
       "<span style=\"background: #196F3D; top: 40px; height: 4px; border-top-left-radius: 3px; border-bottom-left-radius: 3px; left: -1px; width: calc(100% + 2px); position: absolute;\">\n",
       "    <span style=\"background: #196F3D; z-index: 10; color: #000; top: -0.5em; padding: 2px 3px; position: absolute; font-size: 0.6em; font-weight: bold; line-height: 1; border-radius: 3px\">\n",
       "        ENE-Spatial\n",
       "    </span>\n",
       "</span>\n",
       "\n",
       "\n",
       "<span style=\"background: #196F3D; top: 57px; height: 4px; border-top-left-radius: 3px; border-bottom-left-radius: 3px; left: -1px; width: calc(100% + 2px); position: absolute;\">\n",
       "    <span style=\"background: #196F3D; z-index: 10; color: #000; top: -0.5em; padding: 2px 3px; position: absolute; font-size: 0.6em; font-weight: bold; line-height: 1; border-radius: 3px\">\n",
       "        ENE-Spatial\n",
       "    </span>\n",
       "</span>\n",
       "\n",
       "\n",
       "<span style=\"background: #85C1E9; top: 74px; height: 4px; border-top-left-radius: 3px; border-bottom-left-radius: 3px; left: -1px; width: calc(100% + 2px); position: absolute;\">\n",
       "    <span style=\"background: #85C1E9; z-index: 10; color: #000; top: -0.5em; padding: 2px 3px; position: absolute; font-size: 0.6em; font-weight: bold; line-height: 1; border-radius: 3px\">\n",
       "        NC-Spatial\n",
       "    </span>\n",
       "</span>\n",
       "\n",
       "\n",
       "</span>\n",
       "\n",
       "<span style=\"font-weight: bold; display: inline-block; position: relative; height: 94px;\">\n",
       "    ville\n",
       "    \n",
       "<span style=\"background: #196F3D; top: 40px; height: 4px; left: -1px; width: calc(100% + 2px); position: absolute;\">\n",
       "</span>\n",
       "\n",
       "<span style=\"background: #196F3D; top: 57px; height: 4px; left: -1px; width: calc(100% + 2px); position: absolute;\">\n",
       "</span>\n",
       "\n",
       "<span style=\"background: #85C1E9; top: 74px; height: 4px; left: -1px; width: calc(100% + 2px); position: absolute;\">\n",
       "</span>\n",
       "\n",
       "    \n",
       "</span>\n",
       "\n",
       "<span style=\"font-weight: bold; display: inline-block; position: relative; height: 77px;\">\n",
       "    ,\n",
       "    \n",
       "<span style=\"background: #196F3D; top: 40px; height: 4px; left: -1px; width: calc(100% + 2px); position: absolute;\">\n",
       "</span>\n",
       "\n",
       "<span style=\"background: #196F3D; top: 57px; height: 4px; left: -1px; width: calc(100% + 2px); position: absolute;\">\n",
       "</span>\n",
       "\n",
       "    \n",
       "</span>\n",
       "\n",
       "<span style=\"font-weight: bold; display: inline-block; position: relative; height: 77px;\">\n",
       "    ou\n",
       "    \n",
       "<span style=\"background: #196F3D; top: 40px; height: 4px; left: -1px; width: calc(100% + 2px); position: absolute;\">\n",
       "</span>\n",
       "\n",
       "<span style=\"background: #196F3D; top: 57px; height: 4px; left: -1px; width: calc(100% + 2px); position: absolute;\">\n",
       "</span>\n",
       "\n",
       "    \n",
       "</span>\n",
       "\n",
       "<span style=\"font-weight: bold; display: inline-block; position: relative; height: 77px;\">\n",
       "    plûtôt\n",
       "    \n",
       "<span style=\"background: #196F3D; top: 40px; height: 4px; left: -1px; width: calc(100% + 2px); position: absolute;\">\n",
       "</span>\n",
       "\n",
       "<span style=\"background: #196F3D; top: 57px; height: 4px; left: -1px; width: calc(100% + 2px); position: absolute;\">\n",
       "</span>\n",
       "\n",
       "    \n",
       "</span>\n",
       "\n",
       "<span style=\"font-weight: bold; display: inline-block; position: relative; height: 128px;\">\n",
       "    bourg\n",
       "    \n",
       "<span style=\"background: #196F3D; top: 40px; height: 4px; left: -1px; width: calc(100% + 2px); position: absolute;\">\n",
       "</span>\n",
       "\n",
       "<span style=\"background: #196F3D; top: 57px; height: 4px; left: -1px; width: calc(100% + 2px); position: absolute;\">\n",
       "</span>\n",
       "\n",
       "<span style=\"background: #196F3D; top: 74px; height: 4px; left: -1px; width: calc(100% + 2px); position: absolute;\">\n",
       "</span>\n",
       "\n",
       "<span style=\"background: #196F3D; top: 91px; height: 4px; left: -1px; width: calc(100% + 2px); position: absolute;\">\n",
       "</span>\n",
       "\n",
       "<span style=\"background: #85C1E9; top: 108px; height: 4px; left: -1px; width: calc(100% + 2px); position: absolute;\">\n",
       "</span>\n",
       "\n",
       "    \n",
       "<span style=\"background: #196F3D; top: 74px; height: 4px; border-top-left-radius: 3px; border-bottom-left-radius: 3px; left: -1px; width: calc(100% + 2px); position: absolute;\">\n",
       "    <span style=\"background: #196F3D; z-index: 10; color: #000; top: -0.5em; padding: 2px 3px; position: absolute; font-size: 0.6em; font-weight: bold; line-height: 1; border-radius: 3px\">\n",
       "        ENE-Spatial\n",
       "    </span>\n",
       "</span>\n",
       "\n",
       "\n",
       "<span style=\"background: #196F3D; top: 91px; height: 4px; border-top-left-radius: 3px; border-bottom-left-radius: 3px; left: -1px; width: calc(100% + 2px); position: absolute;\">\n",
       "    <span style=\"background: #196F3D; z-index: 10; color: #000; top: -0.5em; padding: 2px 3px; position: absolute; font-size: 0.6em; font-weight: bold; line-height: 1; border-radius: 3px\">\n",
       "        ENE-Spatial\n",
       "    </span>\n",
       "</span>\n",
       "\n",
       "\n",
       "<span style=\"background: #85C1E9; top: 108px; height: 4px; border-top-left-radius: 3px; border-bottom-left-radius: 3px; left: -1px; width: calc(100% + 2px); position: absolute;\">\n",
       "    <span style=\"background: #85C1E9; z-index: 10; color: #000; top: -0.5em; padding: 2px 3px; position: absolute; font-size: 0.6em; font-weight: bold; line-height: 1; border-radius: 3px\">\n",
       "        NC-Spatial\n",
       "    </span>\n",
       "</span>\n",
       "\n",
       "\n",
       "</span>\n",
       "\n",
       "<span style=\"font-weight: bold; display: inline-block; position: relative; height: 111px;\">\n",
       "    de\n",
       "    \n",
       "<span style=\"background: #196F3D; top: 40px; height: 4px; left: -1px; width: calc(100% + 2px); position: absolute;\">\n",
       "</span>\n",
       "\n",
       "<span style=\"background: #196F3D; top: 57px; height: 4px; left: -1px; width: calc(100% + 2px); position: absolute;\">\n",
       "</span>\n",
       "\n",
       "<span style=\"background: #196F3D; top: 74px; height: 4px; left: -1px; width: calc(100% + 2px); position: absolute;\">\n",
       "</span>\n",
       "\n",
       "<span style=\"background: #196F3D; top: 91px; height: 4px; left: -1px; width: calc(100% + 2px); position: absolute;\">\n",
       "</span>\n",
       "\n",
       "    \n",
       "</span>\n",
       "\n",
       "<span style=\"font-weight: bold; display: inline-block; position: relative; height: 128px;\">\n",
       "    France\n",
       "    \n",
       "<span style=\"background: #196F3D; top: 40px; height: 4px; left: -1px; width: calc(100% + 2px); position: absolute;\">\n",
       "</span>\n",
       "\n",
       "<span style=\"background: #196F3D; top: 57px; height: 4px; left: -1px; width: calc(100% + 2px); position: absolute;\">\n",
       "</span>\n",
       "\n",
       "<span style=\"background: #196F3D; top: 74px; height: 4px; left: -1px; width: calc(100% + 2px); position: absolute;\">\n",
       "</span>\n",
       "\n",
       "<span style=\"background: #196F3D; top: 91px; height: 4px; left: -1px; width: calc(100% + 2px); position: absolute;\">\n",
       "</span>\n",
       "\n",
       "<span style=\"background: #27AE60; top: 108px; height: 4px; left: -1px; width: calc(100% + 2px); position: absolute;\">\n",
       "</span>\n",
       "\n",
       "    \n",
       "<span style=\"background: #27AE60; top: 108px; height: 4px; border-top-left-radius: 3px; border-bottom-left-radius: 3px; left: -1px; width: calc(100% + 2px); position: absolute;\">\n",
       "    <span style=\"background: #27AE60; z-index: 10; color: #000; top: -0.5em; padding: 2px 3px; position: absolute; font-size: 0.6em; font-weight: bold; line-height: 1; border-radius: 3px\">\n",
       "        NP-Spatial\n",
       "    </span>\n",
       "</span>\n",
       "\n",
       "\n",
       "</span>\n",
       "\n",
       "<span style=\"font-weight: bold; display: inline-block; position: relative; height: 111px;\">\n",
       "    dans\n",
       "    \n",
       "<span style=\"background: #196F3D; top: 40px; height: 4px; left: -1px; width: calc(100% + 2px); position: absolute;\">\n",
       "</span>\n",
       "\n",
       "<span style=\"background: #196F3D; top: 57px; height: 4px; left: -1px; width: calc(100% + 2px); position: absolute;\">\n",
       "</span>\n",
       "\n",
       "<span style=\"background: #196F3D; top: 74px; height: 4px; left: -1px; width: calc(100% + 2px); position: absolute;\">\n",
       "</span>\n",
       "\n",
       "<span style=\"background: #F5B041; top: 91px; height: 4px; left: -1px; width: calc(100% + 2px); position: absolute;\">\n",
       "</span>\n",
       "\n",
       "    \n",
       "<span style=\"background: #F5B041; top: 91px; height: 4px; border-top-left-radius: 3px; border-bottom-left-radius: 3px; left: -1px; width: calc(100% + 2px); position: absolute;\">\n",
       "    <span style=\"background: #F5B041; z-index: 10; color: #000; top: -0.5em; padding: 2px 3px; position: absolute; font-size: 0.6em; font-weight: bold; line-height: 1; border-radius: 3px\">\n",
       "        Relation\n",
       "    </span>\n",
       "</span>\n",
       "\n",
       "\n",
       "</span>\n",
       "\n",
       "<span style=\"font-weight: bold; display: inline-block; position: relative; height: 111px;\">\n",
       "    le\n",
       "    \n",
       "<span style=\"background: #196F3D; top: 40px; height: 4px; left: -1px; width: calc(100% + 2px); position: absolute;\">\n",
       "</span>\n",
       "\n",
       "<span style=\"background: #196F3D; top: 57px; height: 4px; left: -1px; width: calc(100% + 2px); position: absolute;\">\n",
       "</span>\n",
       "\n",
       "<span style=\"background: #196F3D; top: 74px; height: 4px; left: -1px; width: calc(100% + 2px); position: absolute;\">\n",
       "</span>\n",
       "\n",
       "<span style=\"background: #27AE60; top: 91px; height: 4px; left: -1px; width: calc(100% + 2px); position: absolute;\">\n",
       "</span>\n",
       "\n",
       "    \n",
       "<span style=\"background: #27AE60; top: 91px; height: 4px; border-top-left-radius: 3px; border-bottom-left-radius: 3px; left: -1px; width: calc(100% + 2px); position: absolute;\">\n",
       "    <span style=\"background: #27AE60; z-index: 10; color: #000; top: -0.5em; padding: 2px 3px; position: absolute; font-size: 0.6em; font-weight: bold; line-height: 1; border-radius: 3px\">\n",
       "        NP-Spatial\n",
       "    </span>\n",
       "</span>\n",
       "\n",
       "\n",
       "</span>\n",
       "\n",
       "<span style=\"font-weight: bold; display: inline-block; position: relative; height: 111px;\">\n",
       "    Forez\n",
       "    \n",
       "<span style=\"background: #196F3D; top: 40px; height: 4px; left: -1px; width: calc(100% + 2px); position: absolute;\">\n",
       "</span>\n",
       "\n",
       "<span style=\"background: #196F3D; top: 57px; height: 4px; left: -1px; width: calc(100% + 2px); position: absolute;\">\n",
       "</span>\n",
       "\n",
       "<span style=\"background: #196F3D; top: 74px; height: 4px; left: -1px; width: calc(100% + 2px); position: absolute;\">\n",
       "</span>\n",
       "\n",
       "<span style=\"background: #27AE60; top: 91px; height: 4px; left: -1px; width: calc(100% + 2px); position: absolute;\">\n",
       "</span>\n",
       "\n",
       "    \n",
       "</span>\n",
       "\n",
       "<span style=\"font-weight: bold; display: inline-block; position: relative; height: 60px;\">\n",
       "    ,\n",
       "    \n",
       "<span style=\"background: #196F3D; top: 40px; height: 4px; left: -1px; width: calc(100% + 2px); position: absolute;\">\n",
       "</span>\n",
       "\n",
       "    \n",
       "</span>\n",
       "\n",
       "<span style=\"font-weight: bold; display: inline-block; position: relative; height: 77px;\">\n",
       "    au\n",
       "    \n",
       "<span style=\"background: #196F3D; top: 40px; height: 4px; left: -1px; width: calc(100% + 2px); position: absolute;\">\n",
       "</span>\n",
       "\n",
       "<span style=\"background: #F5B041; top: 57px; height: 4px; left: -1px; width: calc(100% + 2px); position: absolute;\">\n",
       "</span>\n",
       "\n",
       "    \n",
       "<span style=\"background: #F5B041; top: 57px; height: 4px; border-top-left-radius: 3px; border-bottom-left-radius: 3px; left: -1px; width: calc(100% + 2px); position: absolute;\">\n",
       "    <span style=\"background: #F5B041; z-index: 10; color: #000; top: -0.5em; padding: 2px 3px; position: absolute; font-size: 0.6em; font-weight: bold; line-height: 1; border-radius: 3px\">\n",
       "        Relation\n",
       "    </span>\n",
       "</span>\n",
       "\n",
       "\n",
       "</span>\n",
       "\n",
       "<span style=\"font-weight: bold; display: inline-block; position: relative; height: 94px;\">\n",
       "    diocèse\n",
       "    \n",
       "<span style=\"background: #196F3D; top: 40px; height: 4px; left: -1px; width: calc(100% + 2px); position: absolute;\">\n",
       "</span>\n",
       "\n",
       "<span style=\"background: #196F3D; top: 57px; height: 4px; left: -1px; width: calc(100% + 2px); position: absolute;\">\n",
       "</span>\n",
       "\n",
       "<span style=\"background: #85C1E9; top: 74px; height: 4px; left: -1px; width: calc(100% + 2px); position: absolute;\">\n",
       "</span>\n",
       "\n",
       "    \n",
       "<span style=\"background: #196F3D; top: 57px; height: 4px; border-top-left-radius: 3px; border-bottom-left-radius: 3px; left: -1px; width: calc(100% + 2px); position: absolute;\">\n",
       "    <span style=\"background: #196F3D; z-index: 10; color: #000; top: -0.5em; padding: 2px 3px; position: absolute; font-size: 0.6em; font-weight: bold; line-height: 1; border-radius: 3px\">\n",
       "        ENE-Spatial\n",
       "    </span>\n",
       "</span>\n",
       "\n",
       "\n",
       "<span style=\"background: #85C1E9; top: 74px; height: 4px; border-top-left-radius: 3px; border-bottom-left-radius: 3px; left: -1px; width: calc(100% + 2px); position: absolute;\">\n",
       "    <span style=\"background: #85C1E9; z-index: 10; color: #000; top: -0.5em; padding: 2px 3px; position: absolute; font-size: 0.6em; font-weight: bold; line-height: 1; border-radius: 3px\">\n",
       "        NC-Spatial\n",
       "    </span>\n",
       "</span>\n",
       "\n",
       "\n",
       "</span>\n",
       "\n",
       "<span style=\"font-weight: bold; display: inline-block; position: relative; height: 77px;\">\n",
       "    de\n",
       "    \n",
       "<span style=\"background: #196F3D; top: 40px; height: 4px; left: -1px; width: calc(100% + 2px); position: absolute;\">\n",
       "</span>\n",
       "\n",
       "<span style=\"background: #196F3D; top: 57px; height: 4px; left: -1px; width: calc(100% + 2px); position: absolute;\">\n",
       "</span>\n",
       "\n",
       "    \n",
       "</span>\n",
       "\n",
       "<span style=\"font-weight: bold; display: inline-block; position: relative; height: 94px;\">\n",
       "    Lyon\n",
       "    \n",
       "<span style=\"background: #196F3D; top: 40px; height: 4px; left: -1px; width: calc(100% + 2px); position: absolute;\">\n",
       "</span>\n",
       "\n",
       "<span style=\"background: #196F3D; top: 57px; height: 4px; left: -1px; width: calc(100% + 2px); position: absolute;\">\n",
       "</span>\n",
       "\n",
       "<span style=\"background: #27AE60; top: 74px; height: 4px; left: -1px; width: calc(100% + 2px); position: absolute;\">\n",
       "</span>\n",
       "\n",
       "    \n",
       "<span style=\"background: #27AE60; top: 74px; height: 4px; border-top-left-radius: 3px; border-bottom-left-radius: 3px; left: -1px; width: calc(100% + 2px); position: absolute;\">\n",
       "    <span style=\"background: #27AE60; z-index: 10; color: #000; top: -0.5em; padding: 2px 3px; position: absolute; font-size: 0.6em; font-weight: bold; line-height: 1; border-radius: 3px\">\n",
       "        NP-Spatial\n",
       "    </span>\n",
       "</span>\n",
       "\n",
       "\n",
       "</span>\n",
       ", avec le titre de baronnie . ( D. J. ) </div></span>"
      ],
      "text/plain": [
       "<IPython.core.display.HTML object>"
      ]
     },
     "metadata": {},
     "output_type": "display_data"
    }
   ],
   "source": [
    "options = {'colors': {'NP-Spatial': '#27AE60', 'NC-Spatial': '#85C1E9','ENE-Spatial': '#196F3D', 'Relation': '#F5B041'}}\n",
    "spacy.displacy.render(doc, style='span', options=options, jupyter=True)"
   ]
  },
  {
   "cell_type": "code",
   "execution_count": 194,
   "metadata": {},
   "outputs": [
    {
     "name": "stdout",
     "output_type": "stream",
     "text": [
      "bourg NC-Spatial\n",
      "France NP-Spatial\n",
      "dans Relation\n",
      "au Relation\n",
      "diocèse NC-Spatial\n",
      "Lyon NP-Spatial\n",
      "petite ville NC-Spatial\n",
      "le Forez NP-Spatial\n",
      "bourg de France ENE-Spatial\n",
      "diocèse de Lyon ENE-Spatial\n",
      "Géog. mod. Domain-mark\n",
      "bourg de France dans le Forez ENE-Spatial\n",
      "petite ville, ou plûtôt bourg de France dans le Forez ENE-Spatial\n",
      "petite ville, ou plûtôt bourg de France dans le Forez, au diocèse de Lyon ENE-Spatial\n"
     ]
    }
   ],
   "source": [
    "# print textspan + label\n",
    "for span in etoile[\"spans\"]['sc']:\n",
    "    print(etoile[\"text\"][span[\"start\"]:span[\"end\"]], span[\"label\"])"
   ]
  }
 ],
 "metadata": {
  "kernelspec": {
   "display_name": "base",
   "language": "python",
   "name": "python3"
  },
  "language_info": {
   "codemirror_mode": {
    "name": "ipython",
    "version": 3
   },
   "file_extension": ".py",
   "mimetype": "text/x-python",
   "name": "python",
   "nbconvert_exporter": "python",
   "pygments_lexer": "ipython3",
   "version": "3.11.5"
  }
 },
 "nbformat": 4,
 "nbformat_minor": 2
}
